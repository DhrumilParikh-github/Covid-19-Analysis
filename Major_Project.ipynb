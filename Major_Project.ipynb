{
 "cells": [
  {
   "cell_type": "markdown",
   "metadata": {},
   "source": [
    "# Load dataset"
   ]
  },
  {
   "cell_type": "code",
   "execution_count": 1,
   "metadata": {},
   "outputs": [],
   "source": [
    "import pandas as pd\n",
    "import numpy as np"
   ]
  },
  {
   "cell_type": "code",
   "execution_count": 2,
   "metadata": {},
   "outputs": [],
   "source": [
    "df = pd.read_csv(\"covid-data.csv\")"
   ]
  },
  {
   "cell_type": "code",
   "execution_count": 3,
   "metadata": {},
   "outputs": [
    {
     "data": {
      "text/html": [
       "<div>\n",
       "<style scoped>\n",
       "    .dataframe tbody tr th:only-of-type {\n",
       "        vertical-align: middle;\n",
       "    }\n",
       "\n",
       "    .dataframe tbody tr th {\n",
       "        vertical-align: top;\n",
       "    }\n",
       "\n",
       "    .dataframe thead th {\n",
       "        text-align: right;\n",
       "    }\n",
       "</style>\n",
       "<table border=\"1\" class=\"dataframe\">\n",
       "  <thead>\n",
       "    <tr style=\"text-align: right;\">\n",
       "      <th></th>\n",
       "      <th>iso_code</th>\n",
       "      <th>continent</th>\n",
       "      <th>location</th>\n",
       "      <th>date</th>\n",
       "      <th>total_cases</th>\n",
       "      <th>new_cases</th>\n",
       "      <th>total_deaths</th>\n",
       "      <th>new_deaths</th>\n",
       "      <th>total_cases_per_million</th>\n",
       "      <th>new_cases_per_million</th>\n",
       "      <th>...</th>\n",
       "      <th>aged_70_older</th>\n",
       "      <th>gdp_per_capita</th>\n",
       "      <th>extreme_poverty</th>\n",
       "      <th>cardiovasc_death_rate</th>\n",
       "      <th>diabetes_prevalence</th>\n",
       "      <th>female_smokers</th>\n",
       "      <th>male_smokers</th>\n",
       "      <th>handwashing_facilities</th>\n",
       "      <th>hospital_beds_per_thousand</th>\n",
       "      <th>life_expectancy</th>\n",
       "    </tr>\n",
       "  </thead>\n",
       "  <tbody>\n",
       "    <tr>\n",
       "      <th>0</th>\n",
       "      <td>ABW</td>\n",
       "      <td>North America</td>\n",
       "      <td>Aruba</td>\n",
       "      <td>2020-03-13</td>\n",
       "      <td>2.0</td>\n",
       "      <td>2.0</td>\n",
       "      <td>0.0</td>\n",
       "      <td>0.0</td>\n",
       "      <td>18.733</td>\n",
       "      <td>18.733</td>\n",
       "      <td>...</td>\n",
       "      <td>7.452</td>\n",
       "      <td>35973.781</td>\n",
       "      <td>NaN</td>\n",
       "      <td>NaN</td>\n",
       "      <td>11.62</td>\n",
       "      <td>NaN</td>\n",
       "      <td>NaN</td>\n",
       "      <td>NaN</td>\n",
       "      <td>NaN</td>\n",
       "      <td>76.29</td>\n",
       "    </tr>\n",
       "    <tr>\n",
       "      <th>1</th>\n",
       "      <td>ABW</td>\n",
       "      <td>North America</td>\n",
       "      <td>Aruba</td>\n",
       "      <td>2020-03-20</td>\n",
       "      <td>4.0</td>\n",
       "      <td>2.0</td>\n",
       "      <td>0.0</td>\n",
       "      <td>0.0</td>\n",
       "      <td>37.465</td>\n",
       "      <td>18.733</td>\n",
       "      <td>...</td>\n",
       "      <td>7.452</td>\n",
       "      <td>35973.781</td>\n",
       "      <td>NaN</td>\n",
       "      <td>NaN</td>\n",
       "      <td>11.62</td>\n",
       "      <td>NaN</td>\n",
       "      <td>NaN</td>\n",
       "      <td>NaN</td>\n",
       "      <td>NaN</td>\n",
       "      <td>76.29</td>\n",
       "    </tr>\n",
       "    <tr>\n",
       "      <th>2</th>\n",
       "      <td>ABW</td>\n",
       "      <td>North America</td>\n",
       "      <td>Aruba</td>\n",
       "      <td>2020-03-24</td>\n",
       "      <td>12.0</td>\n",
       "      <td>8.0</td>\n",
       "      <td>0.0</td>\n",
       "      <td>0.0</td>\n",
       "      <td>112.395</td>\n",
       "      <td>74.930</td>\n",
       "      <td>...</td>\n",
       "      <td>7.452</td>\n",
       "      <td>35973.781</td>\n",
       "      <td>NaN</td>\n",
       "      <td>NaN</td>\n",
       "      <td>11.62</td>\n",
       "      <td>NaN</td>\n",
       "      <td>NaN</td>\n",
       "      <td>NaN</td>\n",
       "      <td>NaN</td>\n",
       "      <td>76.29</td>\n",
       "    </tr>\n",
       "    <tr>\n",
       "      <th>3</th>\n",
       "      <td>ABW</td>\n",
       "      <td>North America</td>\n",
       "      <td>Aruba</td>\n",
       "      <td>2020-03-25</td>\n",
       "      <td>17.0</td>\n",
       "      <td>5.0</td>\n",
       "      <td>0.0</td>\n",
       "      <td>0.0</td>\n",
       "      <td>159.227</td>\n",
       "      <td>46.831</td>\n",
       "      <td>...</td>\n",
       "      <td>7.452</td>\n",
       "      <td>35973.781</td>\n",
       "      <td>NaN</td>\n",
       "      <td>NaN</td>\n",
       "      <td>11.62</td>\n",
       "      <td>NaN</td>\n",
       "      <td>NaN</td>\n",
       "      <td>NaN</td>\n",
       "      <td>NaN</td>\n",
       "      <td>76.29</td>\n",
       "    </tr>\n",
       "    <tr>\n",
       "      <th>4</th>\n",
       "      <td>ABW</td>\n",
       "      <td>North America</td>\n",
       "      <td>Aruba</td>\n",
       "      <td>2020-03-26</td>\n",
       "      <td>19.0</td>\n",
       "      <td>2.0</td>\n",
       "      <td>0.0</td>\n",
       "      <td>0.0</td>\n",
       "      <td>177.959</td>\n",
       "      <td>18.733</td>\n",
       "      <td>...</td>\n",
       "      <td>7.452</td>\n",
       "      <td>35973.781</td>\n",
       "      <td>NaN</td>\n",
       "      <td>NaN</td>\n",
       "      <td>11.62</td>\n",
       "      <td>NaN</td>\n",
       "      <td>NaN</td>\n",
       "      <td>NaN</td>\n",
       "      <td>NaN</td>\n",
       "      <td>76.29</td>\n",
       "    </tr>\n",
       "  </tbody>\n",
       "</table>\n",
       "<p>5 rows × 36 columns</p>\n",
       "</div>"
      ],
      "text/plain": [
       "  iso_code      continent location        date  total_cases  new_cases  \\\n",
       "0      ABW  North America    Aruba  2020-03-13          2.0        2.0   \n",
       "1      ABW  North America    Aruba  2020-03-20          4.0        2.0   \n",
       "2      ABW  North America    Aruba  2020-03-24         12.0        8.0   \n",
       "3      ABW  North America    Aruba  2020-03-25         17.0        5.0   \n",
       "4      ABW  North America    Aruba  2020-03-26         19.0        2.0   \n",
       "\n",
       "   total_deaths  new_deaths  total_cases_per_million  new_cases_per_million  \\\n",
       "0           0.0         0.0                   18.733                 18.733   \n",
       "1           0.0         0.0                   37.465                 18.733   \n",
       "2           0.0         0.0                  112.395                 74.930   \n",
       "3           0.0         0.0                  159.227                 46.831   \n",
       "4           0.0         0.0                  177.959                 18.733   \n",
       "\n",
       "   ...  aged_70_older  gdp_per_capita  extreme_poverty  cardiovasc_death_rate  \\\n",
       "0  ...          7.452       35973.781              NaN                    NaN   \n",
       "1  ...          7.452       35973.781              NaN                    NaN   \n",
       "2  ...          7.452       35973.781              NaN                    NaN   \n",
       "3  ...          7.452       35973.781              NaN                    NaN   \n",
       "4  ...          7.452       35973.781              NaN                    NaN   \n",
       "\n",
       "   diabetes_prevalence  female_smokers  male_smokers  handwashing_facilities  \\\n",
       "0                11.62             NaN           NaN                     NaN   \n",
       "1                11.62             NaN           NaN                     NaN   \n",
       "2                11.62             NaN           NaN                     NaN   \n",
       "3                11.62             NaN           NaN                     NaN   \n",
       "4                11.62             NaN           NaN                     NaN   \n",
       "\n",
       "   hospital_beds_per_thousand  life_expectancy  \n",
       "0                         NaN            76.29  \n",
       "1                         NaN            76.29  \n",
       "2                         NaN            76.29  \n",
       "3                         NaN            76.29  \n",
       "4                         NaN            76.29  \n",
       "\n",
       "[5 rows x 36 columns]"
      ]
     },
     "execution_count": 3,
     "metadata": {},
     "output_type": "execute_result"
    }
   ],
   "source": [
    "df.head()"
   ]
  },
  {
   "cell_type": "code",
   "execution_count": 4,
   "metadata": {},
   "outputs": [
    {
     "data": {
      "text/plain": [
       "(35083, 36)"
      ]
     },
     "execution_count": 4,
     "metadata": {},
     "output_type": "execute_result"
    }
   ],
   "source": [
    "df.shape"
   ]
  },
  {
   "cell_type": "markdown",
   "metadata": {},
   "source": [
    "# Subset only those rows that have “India”"
   ]
  },
  {
   "cell_type": "code",
   "execution_count": 5,
   "metadata": {},
   "outputs": [],
   "source": [
    "df2=df[df['location'] == 'India']"
   ]
  },
  {
   "cell_type": "code",
   "execution_count": 6,
   "metadata": {},
   "outputs": [
    {
     "data": {
      "text/html": [
       "<div>\n",
       "<style scoped>\n",
       "    .dataframe tbody tr th:only-of-type {\n",
       "        vertical-align: middle;\n",
       "    }\n",
       "\n",
       "    .dataframe tbody tr th {\n",
       "        vertical-align: top;\n",
       "    }\n",
       "\n",
       "    .dataframe thead th {\n",
       "        text-align: right;\n",
       "    }\n",
       "</style>\n",
       "<table border=\"1\" class=\"dataframe\">\n",
       "  <thead>\n",
       "    <tr style=\"text-align: right;\">\n",
       "      <th></th>\n",
       "      <th>iso_code</th>\n",
       "      <th>continent</th>\n",
       "      <th>location</th>\n",
       "      <th>date</th>\n",
       "      <th>total_cases</th>\n",
       "      <th>new_cases</th>\n",
       "      <th>total_deaths</th>\n",
       "      <th>new_deaths</th>\n",
       "      <th>total_cases_per_million</th>\n",
       "      <th>new_cases_per_million</th>\n",
       "      <th>...</th>\n",
       "      <th>aged_70_older</th>\n",
       "      <th>gdp_per_capita</th>\n",
       "      <th>extreme_poverty</th>\n",
       "      <th>cardiovasc_death_rate</th>\n",
       "      <th>diabetes_prevalence</th>\n",
       "      <th>female_smokers</th>\n",
       "      <th>male_smokers</th>\n",
       "      <th>handwashing_facilities</th>\n",
       "      <th>hospital_beds_per_thousand</th>\n",
       "      <th>life_expectancy</th>\n",
       "    </tr>\n",
       "  </thead>\n",
       "  <tbody>\n",
       "    <tr>\n",
       "      <th>15247</th>\n",
       "      <td>IND</td>\n",
       "      <td>Asia</td>\n",
       "      <td>India</td>\n",
       "      <td>2020-08-02</td>\n",
       "      <td>1750723.0</td>\n",
       "      <td>54735.0</td>\n",
       "      <td>37364.0</td>\n",
       "      <td>853.0</td>\n",
       "      <td>1268.636</td>\n",
       "      <td>39.663</td>\n",
       "      <td>...</td>\n",
       "      <td>3.414</td>\n",
       "      <td>6426.674</td>\n",
       "      <td>21.2</td>\n",
       "      <td>282.28</td>\n",
       "      <td>10.39</td>\n",
       "      <td>1.9</td>\n",
       "      <td>20.6</td>\n",
       "      <td>59.55</td>\n",
       "      <td>0.53</td>\n",
       "      <td>69.66</td>\n",
       "    </tr>\n",
       "    <tr>\n",
       "      <th>15248</th>\n",
       "      <td>IND</td>\n",
       "      <td>Asia</td>\n",
       "      <td>India</td>\n",
       "      <td>2020-08-03</td>\n",
       "      <td>1803695.0</td>\n",
       "      <td>52972.0</td>\n",
       "      <td>38135.0</td>\n",
       "      <td>771.0</td>\n",
       "      <td>1307.021</td>\n",
       "      <td>38.385</td>\n",
       "      <td>...</td>\n",
       "      <td>3.414</td>\n",
       "      <td>6426.674</td>\n",
       "      <td>21.2</td>\n",
       "      <td>282.28</td>\n",
       "      <td>10.39</td>\n",
       "      <td>1.9</td>\n",
       "      <td>20.6</td>\n",
       "      <td>59.55</td>\n",
       "      <td>0.53</td>\n",
       "      <td>69.66</td>\n",
       "    </tr>\n",
       "    <tr>\n",
       "      <th>15249</th>\n",
       "      <td>IND</td>\n",
       "      <td>Asia</td>\n",
       "      <td>India</td>\n",
       "      <td>2020-08-04</td>\n",
       "      <td>1855745.0</td>\n",
       "      <td>52050.0</td>\n",
       "      <td>38938.0</td>\n",
       "      <td>803.0</td>\n",
       "      <td>1344.738</td>\n",
       "      <td>37.717</td>\n",
       "      <td>...</td>\n",
       "      <td>3.414</td>\n",
       "      <td>6426.674</td>\n",
       "      <td>21.2</td>\n",
       "      <td>282.28</td>\n",
       "      <td>10.39</td>\n",
       "      <td>1.9</td>\n",
       "      <td>20.6</td>\n",
       "      <td>59.55</td>\n",
       "      <td>0.53</td>\n",
       "      <td>69.66</td>\n",
       "    </tr>\n",
       "    <tr>\n",
       "      <th>15250</th>\n",
       "      <td>IND</td>\n",
       "      <td>Asia</td>\n",
       "      <td>India</td>\n",
       "      <td>2020-08-05</td>\n",
       "      <td>1908254.0</td>\n",
       "      <td>52509.0</td>\n",
       "      <td>39795.0</td>\n",
       "      <td>857.0</td>\n",
       "      <td>1382.788</td>\n",
       "      <td>38.050</td>\n",
       "      <td>...</td>\n",
       "      <td>3.414</td>\n",
       "      <td>6426.674</td>\n",
       "      <td>21.2</td>\n",
       "      <td>282.28</td>\n",
       "      <td>10.39</td>\n",
       "      <td>1.9</td>\n",
       "      <td>20.6</td>\n",
       "      <td>59.55</td>\n",
       "      <td>0.53</td>\n",
       "      <td>69.66</td>\n",
       "    </tr>\n",
       "    <tr>\n",
       "      <th>15251</th>\n",
       "      <td>IND</td>\n",
       "      <td>Asia</td>\n",
       "      <td>India</td>\n",
       "      <td>2020-08-06</td>\n",
       "      <td>1964536.0</td>\n",
       "      <td>56282.0</td>\n",
       "      <td>40699.0</td>\n",
       "      <td>904.0</td>\n",
       "      <td>1423.572</td>\n",
       "      <td>40.784</td>\n",
       "      <td>...</td>\n",
       "      <td>3.414</td>\n",
       "      <td>6426.674</td>\n",
       "      <td>21.2</td>\n",
       "      <td>282.28</td>\n",
       "      <td>10.39</td>\n",
       "      <td>1.9</td>\n",
       "      <td>20.6</td>\n",
       "      <td>59.55</td>\n",
       "      <td>0.53</td>\n",
       "      <td>69.66</td>\n",
       "    </tr>\n",
       "  </tbody>\n",
       "</table>\n",
       "<p>5 rows × 36 columns</p>\n",
       "</div>"
      ],
      "text/plain": [
       "      iso_code continent location        date  total_cases  new_cases  \\\n",
       "15247      IND      Asia    India  2020-08-02    1750723.0    54735.0   \n",
       "15248      IND      Asia    India  2020-08-03    1803695.0    52972.0   \n",
       "15249      IND      Asia    India  2020-08-04    1855745.0    52050.0   \n",
       "15250      IND      Asia    India  2020-08-05    1908254.0    52509.0   \n",
       "15251      IND      Asia    India  2020-08-06    1964536.0    56282.0   \n",
       "\n",
       "       total_deaths  new_deaths  total_cases_per_million  \\\n",
       "15247       37364.0       853.0                 1268.636   \n",
       "15248       38135.0       771.0                 1307.021   \n",
       "15249       38938.0       803.0                 1344.738   \n",
       "15250       39795.0       857.0                 1382.788   \n",
       "15251       40699.0       904.0                 1423.572   \n",
       "\n",
       "       new_cases_per_million  ...  aged_70_older  gdp_per_capita  \\\n",
       "15247                 39.663  ...          3.414        6426.674   \n",
       "15248                 38.385  ...          3.414        6426.674   \n",
       "15249                 37.717  ...          3.414        6426.674   \n",
       "15250                 38.050  ...          3.414        6426.674   \n",
       "15251                 40.784  ...          3.414        6426.674   \n",
       "\n",
       "       extreme_poverty  cardiovasc_death_rate  diabetes_prevalence  \\\n",
       "15247             21.2                 282.28                10.39   \n",
       "15248             21.2                 282.28                10.39   \n",
       "15249             21.2                 282.28                10.39   \n",
       "15250             21.2                 282.28                10.39   \n",
       "15251             21.2                 282.28                10.39   \n",
       "\n",
       "       female_smokers  male_smokers  handwashing_facilities  \\\n",
       "15247             1.9          20.6                   59.55   \n",
       "15248             1.9          20.6                   59.55   \n",
       "15249             1.9          20.6                   59.55   \n",
       "15250             1.9          20.6                   59.55   \n",
       "15251             1.9          20.6                   59.55   \n",
       "\n",
       "       hospital_beds_per_thousand  life_expectancy  \n",
       "15247                        0.53            69.66  \n",
       "15248                        0.53            69.66  \n",
       "15249                        0.53            69.66  \n",
       "15250                        0.53            69.66  \n",
       "15251                        0.53            69.66  \n",
       "\n",
       "[5 rows x 36 columns]"
      ]
     },
     "execution_count": 6,
     "metadata": {},
     "output_type": "execute_result"
    }
   ],
   "source": [
    "df2.tail()"
   ]
  },
  {
   "cell_type": "markdown",
   "metadata": {},
   "source": [
    "# Handle Missing values"
   ]
  },
  {
   "cell_type": "code",
   "execution_count": 7,
   "metadata": {},
   "outputs": [
    {
     "data": {
      "text/plain": [
       "iso_code                            0\n",
       "continent                           0\n",
       "location                            0\n",
       "date                                0\n",
       "total_cases                         0\n",
       "new_cases                           0\n",
       "total_deaths                        0\n",
       "new_deaths                          0\n",
       "total_cases_per_million             0\n",
       "new_cases_per_million               0\n",
       "total_deaths_per_million            0\n",
       "new_deaths_per_million              0\n",
       "new_tests                          90\n",
       "total_tests                        84\n",
       "total_tests_per_thousand           84\n",
       "new_tests_per_thousand             90\n",
       "new_tests_smoothed                 79\n",
       "new_tests_smoothed_per_thousand    79\n",
       "tests_per_case                     79\n",
       "positive_rate                      79\n",
       "tests_units                        72\n",
       "stringency_index                   14\n",
       "population                          0\n",
       "population_density                  0\n",
       "median_age                          0\n",
       "aged_65_older                       0\n",
       "aged_70_older                       0\n",
       "gdp_per_capita                      0\n",
       "extreme_poverty                     0\n",
       "cardiovasc_death_rate               0\n",
       "diabetes_prevalence                 0\n",
       "female_smokers                      0\n",
       "male_smokers                        0\n",
       "handwashing_facilities              0\n",
       "hospital_beds_per_thousand          0\n",
       "life_expectancy                     0\n",
       "dtype: int64"
      ]
     },
     "execution_count": 7,
     "metadata": {},
     "output_type": "execute_result"
    }
   ],
   "source": [
    "df2.isna().sum()"
   ]
  },
  {
   "cell_type": "code",
   "execution_count": 8,
   "metadata": {},
   "outputs": [
    {
     "name": "stderr",
     "output_type": "stream",
     "text": [
      "D:\\Dhrumil\\Anaconda\\lib\\site-packages\\pandas\\core\\generic.py:6245: SettingWithCopyWarning: \n",
      "A value is trying to be set on a copy of a slice from a DataFrame\n",
      "\n",
      "See the caveats in the documentation: https://pandas.pydata.org/pandas-docs/stable/user_guide/indexing.html#returning-a-view-versus-a-copy\n",
      "  self._update_inplace(new_data)\n"
     ]
    }
   ],
   "source": [
    "df2.fillna(df2.mean(),inplace=True)"
   ]
  },
  {
   "cell_type": "code",
   "execution_count": 9,
   "metadata": {},
   "outputs": [
    {
     "data": {
      "text/plain": [
       "iso_code                            0\n",
       "continent                           0\n",
       "location                            0\n",
       "date                                0\n",
       "total_cases                         0\n",
       "new_cases                           0\n",
       "total_deaths                        0\n",
       "new_deaths                          0\n",
       "total_cases_per_million             0\n",
       "new_cases_per_million               0\n",
       "total_deaths_per_million            0\n",
       "new_deaths_per_million              0\n",
       "new_tests                           0\n",
       "total_tests                         0\n",
       "total_tests_per_thousand            0\n",
       "new_tests_per_thousand              0\n",
       "new_tests_smoothed                  0\n",
       "new_tests_smoothed_per_thousand     0\n",
       "tests_per_case                      0\n",
       "positive_rate                       0\n",
       "tests_units                        72\n",
       "stringency_index                    0\n",
       "population                          0\n",
       "population_density                  0\n",
       "median_age                          0\n",
       "aged_65_older                       0\n",
       "aged_70_older                       0\n",
       "gdp_per_capita                      0\n",
       "extreme_poverty                     0\n",
       "cardiovasc_death_rate               0\n",
       "diabetes_prevalence                 0\n",
       "female_smokers                      0\n",
       "male_smokers                        0\n",
       "handwashing_facilities              0\n",
       "hospital_beds_per_thousand          0\n",
       "life_expectancy                     0\n",
       "dtype: int64"
      ]
     },
     "execution_count": 9,
     "metadata": {},
     "output_type": "execute_result"
    }
   ],
   "source": [
    "df2.isna().sum()"
   ]
  },
  {
   "cell_type": "code",
   "execution_count": 10,
   "metadata": {},
   "outputs": [
    {
     "data": {
      "text/plain": [
       "15033               NaN\n",
       "15034               NaN\n",
       "15035               NaN\n",
       "15036               NaN\n",
       "15037               NaN\n",
       "              ...      \n",
       "15247    samples tested\n",
       "15248    samples tested\n",
       "15249    samples tested\n",
       "15250    samples tested\n",
       "15251    samples tested\n",
       "Name: tests_units, Length: 219, dtype: object"
      ]
     },
     "execution_count": 10,
     "metadata": {},
     "output_type": "execute_result"
    }
   ],
   "source": [
    "df2['tests_units']"
   ]
  },
  {
   "cell_type": "code",
   "execution_count": 11,
   "metadata": {},
   "outputs": [],
   "source": [
    "df2.fillna(df2.mean(),inplace=True)"
   ]
  },
  {
   "cell_type": "code",
   "execution_count": 12,
   "metadata": {},
   "outputs": [],
   "source": [
    "df2['tests_units'].fillna(df2['tests_units'].mode(),inplace=True)"
   ]
  },
  {
   "cell_type": "code",
   "execution_count": 13,
   "metadata": {},
   "outputs": [
    {
     "data": {
      "text/plain": [
       "iso_code                            0\n",
       "continent                           0\n",
       "location                            0\n",
       "date                                0\n",
       "total_cases                         0\n",
       "new_cases                           0\n",
       "total_deaths                        0\n",
       "new_deaths                          0\n",
       "total_cases_per_million             0\n",
       "new_cases_per_million               0\n",
       "total_deaths_per_million            0\n",
       "new_deaths_per_million              0\n",
       "new_tests                           0\n",
       "total_tests                         0\n",
       "total_tests_per_thousand            0\n",
       "new_tests_per_thousand              0\n",
       "new_tests_smoothed                  0\n",
       "new_tests_smoothed_per_thousand     0\n",
       "tests_per_case                      0\n",
       "positive_rate                       0\n",
       "tests_units                        72\n",
       "stringency_index                    0\n",
       "population                          0\n",
       "population_density                  0\n",
       "median_age                          0\n",
       "aged_65_older                       0\n",
       "aged_70_older                       0\n",
       "gdp_per_capita                      0\n",
       "extreme_poverty                     0\n",
       "cardiovasc_death_rate               0\n",
       "diabetes_prevalence                 0\n",
       "female_smokers                      0\n",
       "male_smokers                        0\n",
       "handwashing_facilities              0\n",
       "hospital_beds_per_thousand          0\n",
       "life_expectancy                     0\n",
       "dtype: int64"
      ]
     },
     "execution_count": 13,
     "metadata": {},
     "output_type": "execute_result"
    }
   ],
   "source": [
    "df2.isna().sum()"
   ]
  },
  {
   "cell_type": "code",
   "execution_count": 14,
   "metadata": {},
   "outputs": [
    {
     "name": "stderr",
     "output_type": "stream",
     "text": [
      "D:\\Dhrumil\\Anaconda\\lib\\site-packages\\pandas\\core\\frame.py:3997: SettingWithCopyWarning: \n",
      "A value is trying to be set on a copy of a slice from a DataFrame\n",
      "\n",
      "See the caveats in the documentation: https://pandas.pydata.org/pandas-docs/stable/user_guide/indexing.html#returning-a-view-versus-a-copy\n",
      "  errors=errors,\n"
     ]
    }
   ],
   "source": [
    "df2.drop(['iso_code','continent','location','tests_units'],axis=1,inplace=True)"
   ]
  },
  {
   "cell_type": "code",
   "execution_count": 15,
   "metadata": {},
   "outputs": [
    {
     "data": {
      "text/html": [
       "<div>\n",
       "<style scoped>\n",
       "    .dataframe tbody tr th:only-of-type {\n",
       "        vertical-align: middle;\n",
       "    }\n",
       "\n",
       "    .dataframe tbody tr th {\n",
       "        vertical-align: top;\n",
       "    }\n",
       "\n",
       "    .dataframe thead th {\n",
       "        text-align: right;\n",
       "    }\n",
       "</style>\n",
       "<table border=\"1\" class=\"dataframe\">\n",
       "  <thead>\n",
       "    <tr style=\"text-align: right;\">\n",
       "      <th></th>\n",
       "      <th>date</th>\n",
       "      <th>total_cases</th>\n",
       "      <th>new_cases</th>\n",
       "      <th>total_deaths</th>\n",
       "      <th>new_deaths</th>\n",
       "      <th>total_cases_per_million</th>\n",
       "      <th>new_cases_per_million</th>\n",
       "      <th>total_deaths_per_million</th>\n",
       "      <th>new_deaths_per_million</th>\n",
       "      <th>new_tests</th>\n",
       "      <th>...</th>\n",
       "      <th>aged_70_older</th>\n",
       "      <th>gdp_per_capita</th>\n",
       "      <th>extreme_poverty</th>\n",
       "      <th>cardiovasc_death_rate</th>\n",
       "      <th>diabetes_prevalence</th>\n",
       "      <th>female_smokers</th>\n",
       "      <th>male_smokers</th>\n",
       "      <th>handwashing_facilities</th>\n",
       "      <th>hospital_beds_per_thousand</th>\n",
       "      <th>life_expectancy</th>\n",
       "    </tr>\n",
       "  </thead>\n",
       "  <tbody>\n",
       "    <tr>\n",
       "      <th>15033</th>\n",
       "      <td>2019-12-31</td>\n",
       "      <td>0.0</td>\n",
       "      <td>0.0</td>\n",
       "      <td>0.0</td>\n",
       "      <td>0.0</td>\n",
       "      <td>0.0</td>\n",
       "      <td>0.0</td>\n",
       "      <td>0.0</td>\n",
       "      <td>0.0</td>\n",
       "      <td>170654.751938</td>\n",
       "      <td>...</td>\n",
       "      <td>3.414</td>\n",
       "      <td>6426.674</td>\n",
       "      <td>21.2</td>\n",
       "      <td>282.28</td>\n",
       "      <td>10.39</td>\n",
       "      <td>1.9</td>\n",
       "      <td>20.6</td>\n",
       "      <td>59.55</td>\n",
       "      <td>0.53</td>\n",
       "      <td>69.66</td>\n",
       "    </tr>\n",
       "    <tr>\n",
       "      <th>15034</th>\n",
       "      <td>2020-01-01</td>\n",
       "      <td>0.0</td>\n",
       "      <td>0.0</td>\n",
       "      <td>0.0</td>\n",
       "      <td>0.0</td>\n",
       "      <td>0.0</td>\n",
       "      <td>0.0</td>\n",
       "      <td>0.0</td>\n",
       "      <td>0.0</td>\n",
       "      <td>170654.751938</td>\n",
       "      <td>...</td>\n",
       "      <td>3.414</td>\n",
       "      <td>6426.674</td>\n",
       "      <td>21.2</td>\n",
       "      <td>282.28</td>\n",
       "      <td>10.39</td>\n",
       "      <td>1.9</td>\n",
       "      <td>20.6</td>\n",
       "      <td>59.55</td>\n",
       "      <td>0.53</td>\n",
       "      <td>69.66</td>\n",
       "    </tr>\n",
       "    <tr>\n",
       "      <th>15035</th>\n",
       "      <td>2020-01-02</td>\n",
       "      <td>0.0</td>\n",
       "      <td>0.0</td>\n",
       "      <td>0.0</td>\n",
       "      <td>0.0</td>\n",
       "      <td>0.0</td>\n",
       "      <td>0.0</td>\n",
       "      <td>0.0</td>\n",
       "      <td>0.0</td>\n",
       "      <td>170654.751938</td>\n",
       "      <td>...</td>\n",
       "      <td>3.414</td>\n",
       "      <td>6426.674</td>\n",
       "      <td>21.2</td>\n",
       "      <td>282.28</td>\n",
       "      <td>10.39</td>\n",
       "      <td>1.9</td>\n",
       "      <td>20.6</td>\n",
       "      <td>59.55</td>\n",
       "      <td>0.53</td>\n",
       "      <td>69.66</td>\n",
       "    </tr>\n",
       "    <tr>\n",
       "      <th>15036</th>\n",
       "      <td>2020-01-03</td>\n",
       "      <td>0.0</td>\n",
       "      <td>0.0</td>\n",
       "      <td>0.0</td>\n",
       "      <td>0.0</td>\n",
       "      <td>0.0</td>\n",
       "      <td>0.0</td>\n",
       "      <td>0.0</td>\n",
       "      <td>0.0</td>\n",
       "      <td>170654.751938</td>\n",
       "      <td>...</td>\n",
       "      <td>3.414</td>\n",
       "      <td>6426.674</td>\n",
       "      <td>21.2</td>\n",
       "      <td>282.28</td>\n",
       "      <td>10.39</td>\n",
       "      <td>1.9</td>\n",
       "      <td>20.6</td>\n",
       "      <td>59.55</td>\n",
       "      <td>0.53</td>\n",
       "      <td>69.66</td>\n",
       "    </tr>\n",
       "    <tr>\n",
       "      <th>15037</th>\n",
       "      <td>2020-01-04</td>\n",
       "      <td>0.0</td>\n",
       "      <td>0.0</td>\n",
       "      <td>0.0</td>\n",
       "      <td>0.0</td>\n",
       "      <td>0.0</td>\n",
       "      <td>0.0</td>\n",
       "      <td>0.0</td>\n",
       "      <td>0.0</td>\n",
       "      <td>170654.751938</td>\n",
       "      <td>...</td>\n",
       "      <td>3.414</td>\n",
       "      <td>6426.674</td>\n",
       "      <td>21.2</td>\n",
       "      <td>282.28</td>\n",
       "      <td>10.39</td>\n",
       "      <td>1.9</td>\n",
       "      <td>20.6</td>\n",
       "      <td>59.55</td>\n",
       "      <td>0.53</td>\n",
       "      <td>69.66</td>\n",
       "    </tr>\n",
       "  </tbody>\n",
       "</table>\n",
       "<p>5 rows × 32 columns</p>\n",
       "</div>"
      ],
      "text/plain": [
       "             date  total_cases  new_cases  total_deaths  new_deaths  \\\n",
       "15033  2019-12-31          0.0        0.0           0.0         0.0   \n",
       "15034  2020-01-01          0.0        0.0           0.0         0.0   \n",
       "15035  2020-01-02          0.0        0.0           0.0         0.0   \n",
       "15036  2020-01-03          0.0        0.0           0.0         0.0   \n",
       "15037  2020-01-04          0.0        0.0           0.0         0.0   \n",
       "\n",
       "       total_cases_per_million  new_cases_per_million  \\\n",
       "15033                      0.0                    0.0   \n",
       "15034                      0.0                    0.0   \n",
       "15035                      0.0                    0.0   \n",
       "15036                      0.0                    0.0   \n",
       "15037                      0.0                    0.0   \n",
       "\n",
       "       total_deaths_per_million  new_deaths_per_million      new_tests  ...  \\\n",
       "15033                       0.0                     0.0  170654.751938  ...   \n",
       "15034                       0.0                     0.0  170654.751938  ...   \n",
       "15035                       0.0                     0.0  170654.751938  ...   \n",
       "15036                       0.0                     0.0  170654.751938  ...   \n",
       "15037                       0.0                     0.0  170654.751938  ...   \n",
       "\n",
       "       aged_70_older  gdp_per_capita  extreme_poverty  cardiovasc_death_rate  \\\n",
       "15033          3.414        6426.674             21.2                 282.28   \n",
       "15034          3.414        6426.674             21.2                 282.28   \n",
       "15035          3.414        6426.674             21.2                 282.28   \n",
       "15036          3.414        6426.674             21.2                 282.28   \n",
       "15037          3.414        6426.674             21.2                 282.28   \n",
       "\n",
       "       diabetes_prevalence  female_smokers  male_smokers  \\\n",
       "15033                10.39             1.9          20.6   \n",
       "15034                10.39             1.9          20.6   \n",
       "15035                10.39             1.9          20.6   \n",
       "15036                10.39             1.9          20.6   \n",
       "15037                10.39             1.9          20.6   \n",
       "\n",
       "       handwashing_facilities  hospital_beds_per_thousand  life_expectancy  \n",
       "15033                   59.55                        0.53            69.66  \n",
       "15034                   59.55                        0.53            69.66  \n",
       "15035                   59.55                        0.53            69.66  \n",
       "15036                   59.55                        0.53            69.66  \n",
       "15037                   59.55                        0.53            69.66  \n",
       "\n",
       "[5 rows x 32 columns]"
      ]
     },
     "execution_count": 15,
     "metadata": {},
     "output_type": "execute_result"
    }
   ],
   "source": [
    "df2.head()"
   ]
  },
  {
   "cell_type": "markdown",
   "metadata": {},
   "source": [
    "# Univariate Analysis"
   ]
  },
  {
   "cell_type": "code",
   "execution_count": 16,
   "metadata": {},
   "outputs": [
    {
     "name": "stderr",
     "output_type": "stream",
     "text": [
      "D:\\Dhrumil\\Anaconda\\lib\\site-packages\\ipykernel_launcher.py:4: UserWarning: To output multiple subplots, the figure containing the passed axes is being cleared\n",
      "  after removing the cwd from sys.path.\n"
     ]
    },
    {
     "data": {
      "image/png": "[encoded data removed]",
      "text/plain": [
       "<Figure size 1152x1152 with 36 Axes>"
      ]
     },
     "metadata": {
      "needs_background": "light"
     },
     "output_type": "display_data"
    }
   ],
   "source": [
    "import matplotlib.pyplot as plt\n",
    "fig = plt.figure(figsize = (16,16))\n",
    "ax = fig.gca()\n",
    "df.hist(ax=ax)\n",
    "plt.show()"
   ]
  },
  {
   "cell_type": "code",
   "execution_count": 17,
   "metadata": {},
   "outputs": [
    {
     "name": "stderr",
     "output_type": "stream",
     "text": [
      "C:\\Users\\Dhrumil\\AppData\\Roaming\\Python\\Python37\\site-packages\\numpy\\lib\\histograms.py:839: RuntimeWarning: invalid value encountered in greater_equal\n",
      "  keep = (tmp_a >= first_edge)\n",
      "C:\\Users\\Dhrumil\\AppData\\Roaming\\Python\\Python37\\site-packages\\numpy\\lib\\histograms.py:840: RuntimeWarning: invalid value encountered in less_equal\n",
      "  keep &= (tmp_a <= last_edge)\n"
     ]
    },
    {
     "data": {
      "text/plain": [
       "(array([2.8441e+04, 3.2830e+03, 1.5260e+03, 4.7300e+02, 2.1600e+02,\n",
       "        2.0800e+02, 1.1000e+02, 1.6600e+02, 4.6000e+01, 4.2000e+01,\n",
       "        8.5000e+01, 1.2000e+01, 1.3000e+01, 3.0000e+00, 5.0000e+00,\n",
       "        5.0000e+00, 6.0000e+00, 8.0000e+00, 1.1000e+01, 1.9000e+01]),\n",
       " array([    0.     ,  1940.34485,  3880.6897 ,  5821.03455,  7761.3794 ,\n",
       "         9701.72425, 11642.0691 , 13582.41395, 15522.7588 , 17463.10365,\n",
       "        19403.4485 , 21343.79335, 23284.1382 , 25224.48305, 27164.8279 ,\n",
       "        29105.17275, 31045.5176 , 32985.86245, 34926.2073 , 36866.55215,\n",
       "        38806.897  ]),\n",
       " <a list of 20 Patch objects>)"
      ]
     },
     "execution_count": 17,
     "metadata": {},
     "output_type": "execute_result"
    },
    {
     "data": {
      "image/png": "[encoded data removed]",
      "text/plain": [
       "<Figure size 432x288 with 1 Axes>"
      ]
     },
     "metadata": {
      "needs_background": "light"
     },
     "output_type": "display_data"
    }
   ],
   "source": [
    "import matplotlib.pyplot as plt\n",
    "plt.title(\"total_cases_per_million\")\n",
    "\n",
    "plt.hist(df['total_cases_per_million'], bins=20, edgecolor='black')"
   ]
  },
  {
   "cell_type": "code",
   "execution_count": 18,
   "metadata": {},
   "outputs": [
    {
     "data": {
      "text/plain": [
       "(array([3.4358e+04, 1.5700e+02, 7.0000e+01, 4.8000e+01, 3.3000e+01,\n",
       "        1.1000e+01, 1.5000e+01, 3.0000e+00, 7.0000e+00, 9.0000e+00,\n",
       "        1.0000e+01, 7.0000e+00, 5.0000e+00, 4.0000e+00, 5.0000e+00]),\n",
       " array([ -2461. ,  17575.2,  37611.4,  57647.6,  77683.8,  97720. ,\n",
       "        117756.2, 137792.4, 157828.6, 177864.8, 197901. , 217937.2,\n",
       "        237973.4, 258009.6, 278045.8, 298082. ]),\n",
       " <a list of 15 Patch objects>)"
      ]
     },
     "execution_count": 18,
     "metadata": {},
     "output_type": "execute_result"
    },
    {
     "data": {
      "image/png": "[encoded data removed]",
      "text/plain": [
       "<Figure size 432x288 with 1 Axes>"
      ]
     },
     "metadata": {
      "needs_background": "light"
     },
     "output_type": "display_data"
    }
   ],
   "source": [
    "import matplotlib.pyplot as plt\n",
    "plt.title(\"new_cases\")\n",
    "\n",
    "plt.hist(df['new_cases'], bins=15, edgecolor='black')"
   ]
  },
  {
   "cell_type": "code",
   "execution_count": 19,
   "metadata": {},
   "outputs": [
    {
     "data": {
      "text/plain": [
       "(array([8659., 3039., 2661., 1215., 1097.,  920., 1842., 1944.,  820.,\n",
       "        1177.,  737.,  375.,  383.,    0.,  142.]),\n",
       " array([ 0.1       ,  3.02666667,  5.95333333,  8.88      , 11.80666667,\n",
       "        14.73333333, 17.66      , 20.58666667, 23.51333333, 26.44      ,\n",
       "        29.36666667, 32.29333333, 35.22      , 38.14666667, 41.07333333,\n",
       "        44.        ]),\n",
       " <a list of 15 Patch objects>)"
      ]
     },
     "execution_count": 19,
     "metadata": {},
     "output_type": "execute_result"
    },
    {
     "data": {
      "image/png": "[encoded data removed]",
      "text/plain": [
       "<Figure size 432x288 with 1 Axes>"
      ]
     },
     "metadata": {
      "needs_background": "light"
     },
     "output_type": "display_data"
    }
   ],
   "source": [
    "import matplotlib.pyplot as plt\n",
    "plt.title(\"female_smokers\")\n",
    "\n",
    "plt.hist(df['female_smokers'], bins=15, edgecolor='black')"
   ]
  },
  {
   "cell_type": "code",
   "execution_count": 20,
   "metadata": {},
   "outputs": [
    {
     "data": {
      "text/plain": [
       "(array([1148., 2046., 3143., 2476., 3096., 3129., 2870., 2397., 1560.,\n",
       "        1755.,  587.,    0.,  151.,    0.,  351.]),\n",
       " array([ 7.7       , 12.39333333, 17.08666667, 21.78      , 26.47333333,\n",
       "        31.16666667, 35.86      , 40.55333333, 45.24666667, 49.94      ,\n",
       "        54.63333333, 59.32666667, 64.02      , 68.71333333, 73.40666667,\n",
       "        78.1       ]),\n",
       " <a list of 15 Patch objects>)"
      ]
     },
     "execution_count": 20,
     "metadata": {},
     "output_type": "execute_result"
    },
    {
     "data": {
      "image/png": "[encoded data removed]",
      "text/plain": [
       "<Figure size 432x288 with 1 Axes>"
      ]
     },
     "metadata": {
      "needs_background": "light"
     },
     "output_type": "display_data"
    }
   ],
   "source": [
    "import matplotlib.pyplot as plt\n",
    "plt.title(\"male_smokers\")\n",
    "\n",
    "plt.hist(df['male_smokers'], bins=15, edgecolor='black')"
   ]
  },
  {
   "cell_type": "code",
   "execution_count": 21,
   "metadata": {},
   "outputs": [
    {
     "data": {
      "text/plain": [
       "(array([1.0464e+04, 1.9700e+02, 7.4000e+01, 5.4000e+01, 5.5000e+01,\n",
       "        4.1000e+01, 1.9000e+01, 1.5000e+01, 1.0000e+01, 5.0000e+00,\n",
       "        1.3000e+01, 1.3000e+01, 9.0000e+00, 7.0000e+00, 1.0000e+00]),\n",
       " array([ -3743.        ,  58495.73333333, 120734.46666667, 182973.2       ,\n",
       "        245211.93333333, 307450.66666667, 369689.4       , 431928.13333333,\n",
       "        494166.86666667, 556405.6       , 618644.33333333, 680883.06666667,\n",
       "        743121.8       , 805360.53333333, 867599.26666667, 929838.        ]),\n",
       " <a list of 15 Patch objects>)"
      ]
     },
     "execution_count": 21,
     "metadata": {},
     "output_type": "execute_result"
    },
    {
     "data": {
      "image/png": "[encoded data removed]",
      "text/plain": [
       "<Figure size 432x288 with 1 Axes>"
      ]
     },
     "metadata": {
      "needs_background": "light"
     },
     "output_type": "display_data"
    }
   ],
   "source": [
    "import matplotlib.pyplot as plt\n",
    "plt.title(\"new_tests\")\n",
    "\n",
    "plt.hist(df['new_tests'], bins=15, edgecolor='black')"
   ]
  },
  {
   "cell_type": "code",
   "execution_count": 22,
   "metadata": {},
   "outputs": [
    {
     "data": {
      "text/plain": [
       "(array([1.0915e+04, 1.9300e+02, 6.1000e+01, 3.5000e+01, 3.0000e+01,\n",
       "        2.6000e+01, 2.2000e+01, 1.6000e+01, 6.0000e+00, 6.0000e+00,\n",
       "        5.0000e+00, 5.0000e+00, 5.0000e+00, 5.0000e+00, 6.0000e+00]),\n",
       " array([1.00000000e+00, 3.92806593e+06, 7.85613087e+06, 1.17841958e+07,\n",
       "        1.57122607e+07, 1.96403257e+07, 2.35683906e+07, 2.74964555e+07,\n",
       "        3.14245205e+07, 3.53525854e+07, 3.92806503e+07, 4.32087153e+07,\n",
       "        4.71367802e+07, 5.10648451e+07, 5.49929101e+07, 5.89209750e+07]),\n",
       " <a list of 15 Patch objects>)"
      ]
     },
     "execution_count": 22,
     "metadata": {},
     "output_type": "execute_result"
    },
    {
     "data": {
      "image/png": "[encoded data removed]",
      "text/plain": [
       "<Figure size 432x288 with 1 Axes>"
      ]
     },
     "metadata": {
      "needs_background": "light"
     },
     "output_type": "display_data"
    }
   ],
   "source": [
    "import matplotlib.pyplot as plt\n",
    "plt.title(\"total_tests\")\n",
    "\n",
    "plt.hist(df['total_tests'], bins=15, edgecolor='black')"
   ]
  },
  {
   "cell_type": "code",
   "execution_count": 23,
   "metadata": {},
   "outputs": [
    {
     "data": {
      "text/plain": [
       "(array([2768.,  847., 1073.,  651., 1158.,  960., 1095., 1619., 1916.,\n",
       "        1907., 3033., 3174., 3623., 2457., 2017.]),\n",
       " array([  0.        ,   6.66666667,  13.33333333,  20.        ,\n",
       "         26.66666667,  33.33333333,  40.        ,  46.66666667,\n",
       "         53.33333333,  60.        ,  66.66666667,  73.33333333,\n",
       "         80.        ,  86.66666667,  93.33333333, 100.        ]),\n",
       " <a list of 15 Patch objects>)"
      ]
     },
     "execution_count": 23,
     "metadata": {},
     "output_type": "execute_result"
    },
    {
     "data": {
      "image/png": "[encoded data removed]",
      "text/plain": [
       "<Figure size 432x288 with 1 Axes>"
      ]
     },
     "metadata": {
      "needs_background": "light"
     },
     "output_type": "display_data"
    }
   ],
   "source": [
    "import matplotlib.pyplot as plt\n",
    "plt.title(\"stringency_index\")\n",
    "\n",
    "plt.hist(df['stringency_index'], bins=15, edgecolor='black')"
   ]
  },
  {
   "cell_type": "code",
   "execution_count": 24,
   "metadata": {},
   "outputs": [
    {
     "data": {
      "text/plain": [
       "(array([7.682e+03, 1.849e+03, 9.280e+02, 4.930e+02, 3.230e+02, 2.260e+02,\n",
       "        1.410e+02, 7.600e+01, 4.700e+01, 3.300e+01, 4.300e+01, 2.200e+01,\n",
       "        9.000e+00, 1.000e+00, 1.000e+00]),\n",
       " array([0.        , 0.05073333, 0.10146667, 0.1522    , 0.20293333,\n",
       "        0.25366667, 0.3044    , 0.35513333, 0.40586667, 0.4566    ,\n",
       "        0.50733333, 0.55806667, 0.6088    , 0.65953333, 0.71026667,\n",
       "        0.761     ]),\n",
       " <a list of 15 Patch objects>)"
      ]
     },
     "execution_count": 24,
     "metadata": {},
     "output_type": "execute_result"
    },
    {
     "data": {
      "image/png": "[encoded data removed]",
      "text/plain": [
       "<Figure size 432x288 with 1 Axes>"
      ]
     },
     "metadata": {
      "needs_background": "light"
     },
     "output_type": "display_data"
    }
   ],
   "source": [
    "import matplotlib.pyplot as plt\n",
    "plt.title(\"positive_rate\")\n",
    "\n",
    "plt.hist(df['positive_rate'], bins=15, edgecolor='black')"
   ]
  },
  {
   "cell_type": "code",
   "execution_count": 25,
   "metadata": {},
   "outputs": [
    {
     "data": {
      "text/plain": [
       "(array([ 705.,  143.,  828., 1567., 1397., 1476., 1269., 1889., 3578.,\n",
       "        4287., 5578., 3111., 4278., 3833.,  654.]),\n",
       " array([53.28      , 55.51133333, 57.74266667, 59.974     , 62.20533333,\n",
       "        64.43666667, 66.668     , 68.89933333, 71.13066667, 73.362     ,\n",
       "        75.59333333, 77.82466667, 80.056     , 82.28733333, 84.51866667,\n",
       "        86.75      ]),\n",
       " <a list of 15 Patch objects>)"
      ]
     },
     "execution_count": 25,
     "metadata": {},
     "output_type": "execute_result"
    },
    {
     "data": {
      "image/png": "[encoded data removed]",
      "text/plain": [
       "<Figure size 432x288 with 1 Axes>"
      ]
     },
     "metadata": {
      "needs_background": "light"
     },
     "output_type": "display_data"
    }
   ],
   "source": [
    "import matplotlib.pyplot as plt\n",
    "plt.title(\"life_expectancy\")\n",
    "\n",
    "plt.hist(df['life_expectancy'], bins=15, edgecolor='black')"
   ]
  },
  {
   "cell_type": "code",
   "execution_count": 26,
   "metadata": {},
   "outputs": [
    {
     "data": {
      "text/plain": [
       "(array([3617., 6853., 3480., 2947., 1815., 1771.,  728., 2468., 1378.,\n",
       "         975., 3647.,  969.,  220.,    0.,  220.]),\n",
       " array([ 1.144,  2.871,  4.598,  6.325,  8.052,  9.779, 11.506, 13.233,\n",
       "        14.96 , 16.687, 18.414, 20.141, 21.868, 23.595, 25.322, 27.049]),\n",
       " <a list of 15 Patch objects>)"
      ]
     },
     "execution_count": 26,
     "metadata": {},
     "output_type": "execute_result"
    },
    {
     "data": {
      "image/png": "[encoded data removed]",
      "text/plain": [
       "<Figure size 432x288 with 1 Axes>"
      ]
     },
     "metadata": {
      "needs_background": "light"
     },
     "output_type": "display_data"
    }
   ],
   "source": [
    "import matplotlib.pyplot as plt\n",
    "plt.title(\"aged_65_older\")\n",
    "\n",
    "plt.hist(df['aged_65_older'], bins=15, edgecolor='black')"
   ]
  },
  {
   "cell_type": "code",
   "execution_count": 27,
   "metadata": {},
   "outputs": [
    {
     "data": {
      "text/plain": [
       "(array([4118., 7030., 3339., 3158., 2164., 1491., 1168., 2167., 1611.,\n",
       "        1217., 2064., 1039.,  379.,  220.,  220.]),\n",
       " array([ 0.526 ,  1.7238,  2.9216,  4.1194,  5.3172,  6.515 ,  7.7128,\n",
       "         8.9106, 10.1084, 11.3062, 12.504 , 13.7018, 14.8996, 16.0974,\n",
       "        17.2952, 18.493 ]),\n",
       " <a list of 15 Patch objects>)"
      ]
     },
     "execution_count": 27,
     "metadata": {},
     "output_type": "execute_result"
    },
    {
     "data": {
      "image/png": "[encoded data removed]",
      "text/plain": [
       "<Figure size 432x288 with 1 Axes>"
      ]
     },
     "metadata": {
      "needs_background": "light"
     },
     "output_type": "display_data"
    }
   ],
   "source": [
    "import matplotlib.pyplot as plt\n",
    "plt.title(\"aged_70_older\")\n",
    "\n",
    "plt.hist(df['aged_70_older'], bins=15, edgecolor='black')"
   ]
  },
  {
   "cell_type": "code",
   "execution_count": 28,
   "metadata": {},
   "outputs": [
    {
     "name": "stdout",
     "output_type": "stream",
     "text": [
      "MEAN\n",
      "\n",
      "\n",
      "Series([], dtype: float64)\n",
      "total_cases    258564.703196\n",
      "dtype: float64\n",
      "new_cases    8970.484018\n",
      "dtype: float64\n",
      "total_deaths    6610.406393\n",
      "dtype: float64\n",
      "new_deaths    185.840183\n",
      "dtype: float64\n",
      "total_cases_per_million    187.365078\n",
      "dtype: float64\n",
      "new_cases_per_million    6.500324\n",
      "dtype: float64\n",
      "total_deaths_per_million    4.790137\n",
      "dtype: float64\n",
      "new_deaths_per_million    0.134658\n",
      "dtype: float64\n",
      "new_tests    170654.751938\n",
      "dtype: float64\n",
      "total_tests    5.831065e+06\n",
      "dtype: float64\n",
      "total_tests_per_thousand    4.225422\n",
      "dtype: float64\n",
      "new_tests_per_thousand    0.123682\n",
      "dtype: float64\n",
      "new_tests_smoothed    145553.685714\n",
      "dtype: float64\n",
      "new_tests_smoothed_per_thousand    0.105471\n",
      "dtype: float64\n",
      "tests_per_case    18.249343\n",
      "dtype: float64\n",
      "positive_rate    0.065779\n",
      "dtype: float64\n",
      "stringency_index    56.861707\n",
      "dtype: float64\n",
      "population    1.380004e+09\n",
      "dtype: float64\n",
      "population_density    450.419\n",
      "dtype: float64\n",
      "median_age    28.2\n",
      "dtype: float64\n",
      "aged_65_older    5.989\n",
      "dtype: float64\n",
      "aged_70_older    3.414\n",
      "dtype: float64\n",
      "gdp_per_capita    6426.674\n",
      "dtype: float64\n",
      "extreme_poverty    21.2\n",
      "dtype: float64\n",
      "cardiovasc_death_rate    282.28\n",
      "dtype: float64\n",
      "diabetes_prevalence    10.39\n",
      "dtype: float64\n",
      "female_smokers    1.9\n",
      "dtype: float64\n",
      "male_smokers    20.6\n",
      "dtype: float64\n",
      "handwashing_facilities    59.55\n",
      "dtype: float64\n",
      "hospital_beds_per_thousand    0.53\n",
      "dtype: float64\n",
      "life_expectancy    69.66\n",
      "dtype: float64\n"
     ]
    }
   ],
   "source": [
    "print(\"MEAN\\n\\n\")\n",
    "for i in df2:\n",
    "    print(df2[[i]].mean(axis=0))"
   ]
  },
  {
   "cell_type": "code",
   "execution_count": 29,
   "metadata": {
    "scrolled": false
   },
   "outputs": [
    {
     "name": "stdout",
     "output_type": "stream",
     "text": [
      "MEDIAN\n",
      "\n",
      "\n",
      "Series([], dtype: float64)\n",
      "total_cases    15712.0\n",
      "dtype: float64\n",
      "new_cases    1334.0\n",
      "dtype: float64\n",
      "total_deaths    507.0\n",
      "dtype: float64\n",
      "new_deaths    38.0\n",
      "dtype: float64\n",
      "total_cases_per_million    11.385\n",
      "dtype: float64\n",
      "new_cases_per_million    0.967\n",
      "dtype: float64\n",
      "total_deaths_per_million    0.367\n",
      "dtype: float64\n",
      "new_deaths_per_million    0.028\n",
      "dtype: float64\n",
      "new_tests    170654.751938\n",
      "dtype: float64\n",
      "total_tests    5.831065e+06\n",
      "dtype: float64\n",
      "total_tests_per_thousand    4.225422\n",
      "dtype: float64\n",
      "new_tests_per_thousand    0.123682\n",
      "dtype: float64\n",
      "new_tests_smoothed    145553.685714\n",
      "dtype: float64\n",
      "new_tests_smoothed_per_thousand    0.105471\n",
      "dtype: float64\n",
      "tests_per_case    18.249343\n",
      "dtype: float64\n",
      "positive_rate    0.065779\n",
      "dtype: float64\n",
      "stringency_index    75.46\n",
      "dtype: float64\n",
      "population    1.380004e+09\n",
      "dtype: float64\n",
      "population_density    450.419\n",
      "dtype: float64\n",
      "median_age    28.2\n",
      "dtype: float64\n",
      "aged_65_older    5.989\n",
      "dtype: float64\n",
      "aged_70_older    3.414\n",
      "dtype: float64\n",
      "gdp_per_capita    6426.674\n",
      "dtype: float64\n",
      "extreme_poverty    21.2\n",
      "dtype: float64\n",
      "cardiovasc_death_rate    282.28\n",
      "dtype: float64\n",
      "diabetes_prevalence    10.39\n",
      "dtype: float64\n",
      "female_smokers    1.9\n",
      "dtype: float64\n",
      "male_smokers    20.6\n",
      "dtype: float64\n",
      "handwashing_facilities    59.55\n",
      "dtype: float64\n",
      "hospital_beds_per_thousand    0.53\n",
      "dtype: float64\n",
      "life_expectancy    69.66\n",
      "dtype: float64\n"
     ]
    }
   ],
   "source": [
    "print(\"MEDIAN\\n\\n\")\n",
    "for i in df2:\n",
    "    print(df2[[i]].median(axis=0))"
   ]
  },
  {
   "cell_type": "code",
   "execution_count": 30,
   "metadata": {},
   "outputs": [
    {
     "name": "stdout",
     "output_type": "stream",
     "text": [
      "MODE\n",
      "\n",
      "\n",
      "           date\n",
      "0    2019-12-31\n",
      "1    2020-01-01\n",
      "2    2020-01-02\n",
      "3    2020-01-03\n",
      "4    2020-01-04\n",
      "..          ...\n",
      "214  2020-08-02\n",
      "215  2020-08-03\n",
      "216  2020-08-04\n",
      "217  2020-08-05\n",
      "218  2020-08-06\n",
      "\n",
      "[219 rows x 1 columns]\n",
      "   total_cases\n",
      "0          0.0\n",
      "   new_cases\n",
      "0        0.0\n",
      "   total_deaths\n",
      "0           0.0\n",
      "   new_deaths\n",
      "0         0.0\n",
      "   total_cases_per_million\n",
      "0                      0.0\n",
      "   new_cases_per_million\n",
      "0                    0.0\n",
      "   total_deaths_per_million\n",
      "0                       0.0\n",
      "   new_deaths_per_million\n",
      "0                     0.0\n",
      "       new_tests\n",
      "0  170654.751938\n",
      "    total_tests\n",
      "0  5.831065e+06\n",
      "   total_tests_per_thousand\n",
      "0                  4.225422\n",
      "   new_tests_per_thousand\n",
      "0                0.123682\n",
      "   new_tests_smoothed\n",
      "0       145553.685714\n",
      "   new_tests_smoothed_per_thousand\n",
      "0                         0.105471\n",
      "   tests_per_case\n",
      "0       18.249343\n",
      "   positive_rate\n",
      "0       0.065779\n",
      "   stringency_index\n",
      "0             10.19\n",
      "     population\n",
      "0  1.380004e+09\n",
      "   population_density\n",
      "0             450.419\n",
      "   median_age\n",
      "0        28.2\n",
      "   aged_65_older\n",
      "0          5.989\n",
      "   aged_70_older\n",
      "0          3.414\n",
      "   gdp_per_capita\n",
      "0        6426.674\n",
      "   extreme_poverty\n",
      "0             21.2\n",
      "   cardiovasc_death_rate\n",
      "0                 282.28\n",
      "   diabetes_prevalence\n",
      "0                10.39\n",
      "   female_smokers\n",
      "0             1.9\n",
      "   male_smokers\n",
      "0          20.6\n",
      "   handwashing_facilities\n",
      "0                   59.55\n",
      "   hospital_beds_per_thousand\n",
      "0                        0.53\n",
      "   life_expectancy\n",
      "0            69.66\n"
     ]
    }
   ],
   "source": [
    "print(\"MODE\\n\\n\")\n",
    "for i in df2:\n",
    "    print(df2[[i]].mode(axis=0))"
   ]
  },
  {
   "cell_type": "markdown",
   "metadata": {},
   "source": [
    "# Bivariate Analysis"
   ]
  },
  {
   "cell_type": "code",
   "execution_count": 31,
   "metadata": {},
   "outputs": [
    {
     "data": {
      "image/png": "[encoded data removed]",
      "text/plain": [
       "<Figure size 432x288 with 1 Axes>"
      ]
     },
     "metadata": {
      "needs_background": "light"
     },
     "output_type": "display_data"
    }
   ],
   "source": [
    "x = df2['new_cases']\n",
    "y = df2['total_cases']\n",
    "\n",
    "plt.scatter(x, y)\n",
    "plt.show()"
   ]
  },
  {
   "cell_type": "code",
   "execution_count": 32,
   "metadata": {},
   "outputs": [
    {
     "data": {
      "image/png": "[encoded data removed]",
      "text/plain": [
       "<Figure size 432x288 with 1 Axes>"
      ]
     },
     "metadata": {
      "needs_background": "light"
     },
     "output_type": "display_data"
    }
   ],
   "source": [
    "x = df2['total_deaths']\n",
    "y = df2['total_cases']\n",
    "\n",
    "plt.scatter(x, y)\n",
    "plt.show()"
   ]
  },
  {
   "cell_type": "code",
   "execution_count": 33,
   "metadata": {},
   "outputs": [
    {
     "data": {
      "image/png": "[encoded data removed]",
      "text/plain": [
       "<Figure size 432x288 with 1 Axes>"
      ]
     },
     "metadata": {
      "needs_background": "light"
     },
     "output_type": "display_data"
    }
   ],
   "source": [
    "x = df2['new_deaths']\n",
    "y = df2['total_cases']\n",
    "\n",
    "plt.scatter(x, y)\n",
    "plt.show()"
   ]
  },
  {
   "cell_type": "code",
   "execution_count": 34,
   "metadata": {},
   "outputs": [
    {
     "data": {
      "image/png": "[encoded data removed]",
      "text/plain": [
       "<Figure size 432x288 with 1 Axes>"
      ]
     },
     "metadata": {
      "needs_background": "light"
     },
     "output_type": "display_data"
    }
   ],
   "source": [
    "x = df2['total_cases_per_million']\n",
    "y = df2['total_cases']\n",
    "\n",
    "plt.scatter(x, y)\n",
    "plt.show()"
   ]
  },
  {
   "cell_type": "code",
   "execution_count": 35,
   "metadata": {},
   "outputs": [
    {
     "data": {
      "image/png": "[encoded data removed]",
      "text/plain": [
       "<Figure size 432x288 with 1 Axes>"
      ]
     },
     "metadata": {
      "needs_background": "light"
     },
     "output_type": "display_data"
    }
   ],
   "source": [
    "x = df2['total_tests']\n",
    "y = df2['total_cases']\n",
    "\n",
    "plt.scatter(x, y)\n",
    "plt.show()"
   ]
  },
  {
   "cell_type": "code",
   "execution_count": 36,
   "metadata": {},
   "outputs": [
    {
     "data": {
      "image/png": "[encoded data removed]",
      "text/plain": [
       "<Figure size 432x288 with 1 Axes>"
      ]
     },
     "metadata": {
      "needs_background": "light"
     },
     "output_type": "display_data"
    }
   ],
   "source": [
    "x = df2['total_tests_per_thousand']\n",
    "y = df2['total_cases']\n",
    "\n",
    "plt.scatter(x, y)\n",
    "plt.show()"
   ]
  },
  {
   "cell_type": "code",
   "execution_count": 37,
   "metadata": {},
   "outputs": [
    {
     "data": {
      "image/png": "[encoded data removed]",
      "text/plain": [
       "<Figure size 432x288 with 1 Axes>"
      ]
     },
     "metadata": {
      "needs_background": "light"
     },
     "output_type": "display_data"
    }
   ],
   "source": [
    "x = df2['positive_rate']\n",
    "y = df2['total_cases']\n",
    "\n",
    "plt.scatter(x, y)\n",
    "plt.show()"
   ]
  },
  {
   "cell_type": "code",
   "execution_count": 38,
   "metadata": {},
   "outputs": [
    {
     "data": {
      "image/png": "[encoded data removed]",
      "text/plain": [
       "<Figure size 432x288 with 1 Axes>"
      ]
     },
     "metadata": {
      "needs_background": "light"
     },
     "output_type": "display_data"
    }
   ],
   "source": [
    "x = df2['population']\n",
    "y = df2['total_cases']\n",
    "\n",
    "plt.scatter(x, y)\n",
    "plt.show()"
   ]
  },
  {
   "cell_type": "code",
   "execution_count": 39,
   "metadata": {},
   "outputs": [
    {
     "data": {
      "image/png": "[encoded data removed]",
      "text/plain": [
       "<Figure size 432x288 with 1 Axes>"
      ]
     },
     "metadata": {
      "needs_background": "light"
     },
     "output_type": "display_data"
    }
   ],
   "source": [
    "x = df2['population_density']\n",
    "y = df2['total_cases']\n",
    "\n",
    "plt.scatter(x, y)\n",
    "plt.show()"
   ]
  },
  {
   "cell_type": "code",
   "execution_count": 40,
   "metadata": {},
   "outputs": [
    {
     "data": {
      "image/png": "[encoded data removed]",
      "text/plain": [
       "<Figure size 432x288 with 1 Axes>"
      ]
     },
     "metadata": {
      "needs_background": "light"
     },
     "output_type": "display_data"
    }
   ],
   "source": [
    "x = df2['aged_70_older']\n",
    "y = df2['total_cases']\n",
    "\n",
    "plt.scatter(x, y)\n",
    "plt.show()"
   ]
  },
  {
   "cell_type": "code",
   "execution_count": 41,
   "metadata": {},
   "outputs": [
    {
     "data": {
      "image/png": "[encoded data removed]",
      "text/plain": [
       "<Figure size 432x288 with 1 Axes>"
      ]
     },
     "metadata": {
      "needs_background": "light"
     },
     "output_type": "display_data"
    }
   ],
   "source": [
    "x = df2['cardiovasc_death_rate']\n",
    "y = df2['total_cases']\n",
    "\n",
    "plt.scatter(x, y)\n",
    "plt.show()"
   ]
  },
  {
   "cell_type": "code",
   "execution_count": 42,
   "metadata": {},
   "outputs": [
    {
     "data": {
      "image/png": "[encoded data removed]",
      "text/plain": [
       "<Figure size 432x288 with 1 Axes>"
      ]
     },
     "metadata": {
      "needs_background": "light"
     },
     "output_type": "display_data"
    }
   ],
   "source": [
    "x = df2['cardiovasc_death_rate']\n",
    "y = df2['total_cases']\n",
    "\n",
    "plt.scatter(x, y)\n",
    "plt.show()"
   ]
  },
  {
   "cell_type": "code",
   "execution_count": 43,
   "metadata": {},
   "outputs": [
    {
     "data": {
      "image/png": "[encoded data removed]",
      "text/plain": [
       "<Figure size 432x288 with 1 Axes>"
      ]
     },
     "metadata": {
      "needs_background": "light"
     },
     "output_type": "display_data"
    }
   ],
   "source": [
    "x = df2['handwashing_facilities']\n",
    "y = df2['total_cases']\n",
    "\n",
    "plt.scatter(x, y)\n",
    "plt.show()"
   ]
  },
  {
   "cell_type": "code",
   "execution_count": 44,
   "metadata": {},
   "outputs": [
    {
     "data": {
      "image/png": "[encoded data removed]",
      "text/plain": [
       "<Figure size 432x288 with 1 Axes>"
      ]
     },
     "metadata": {
      "needs_background": "light"
     },
     "output_type": "display_data"
    }
   ],
   "source": [
    "x = df2['hospital_beds_per_thousand']\n",
    "y = df2['total_cases']\n",
    "\n",
    "plt.scatter(x, y)\n",
    "plt.show()"
   ]
  },
  {
   "cell_type": "code",
   "execution_count": 45,
   "metadata": {},
   "outputs": [
    {
     "data": {
      "image/png": "[encoded data removed]",
      "text/plain": [
       "<Figure size 432x288 with 1 Axes>"
      ]
     },
     "metadata": {
      "needs_background": "light"
     },
     "output_type": "display_data"
    }
   ],
   "source": [
    "x = df2['life_expectancy']\n",
    "y = df2['total_cases']\n",
    "\n",
    "plt.scatter(x, y)\n",
    "plt.show()"
   ]
  },
  {
   "cell_type": "code",
   "execution_count": 46,
   "metadata": {},
   "outputs": [
    {
     "data": {
      "image/png": "[encoded data removed]",
      "text/plain": [
       "<Figure size 432x288 with 1 Axes>"
      ]
     },
     "metadata": {
      "needs_background": "light"
     },
     "output_type": "display_data"
    }
   ],
   "source": [
    "x = df2['new_cases']\n",
    "y = df2['total_cases']\n",
    "plt.plot(x,y)\n",
    "plt.show()"
   ]
  },
  {
   "cell_type": "code",
   "execution_count": 47,
   "metadata": {},
   "outputs": [
    {
     "data": {
      "image/png": "[encoded data removed]",
      "text/plain": [
       "<Figure size 432x288 with 1 Axes>"
      ]
     },
     "metadata": {
      "needs_background": "light"
     },
     "output_type": "display_data"
    }
   ],
   "source": [
    "x = df2['total_deaths']\n",
    "y = df2['total_cases']\n",
    "plt.plot(x,y)\n",
    "plt.show()"
   ]
  },
  {
   "cell_type": "code",
   "execution_count": 48,
   "metadata": {},
   "outputs": [
    {
     "data": {
      "image/png": "[encoded data removed]",
      "text/plain": [
       "<Figure size 432x288 with 1 Axes>"
      ]
     },
     "metadata": {
      "needs_background": "light"
     },
     "output_type": "display_data"
    }
   ],
   "source": [
    "x = df2['new_deaths']\n",
    "y = df2['total_cases']\n",
    "\n",
    "plt.plot(x, y)\n",
    "plt.show()"
   ]
  },
  {
   "cell_type": "code",
   "execution_count": 49,
   "metadata": {},
   "outputs": [
    {
     "data": {
      "image/png": "[encoded data removed]",
      "text/plain": [
       "<Figure size 432x288 with 1 Axes>"
      ]
     },
     "metadata": {
      "needs_background": "light"
     },
     "output_type": "display_data"
    }
   ],
   "source": [
    "x = df2['positive_rate']\n",
    "y = df2['total_cases']\n",
    "\n",
    "plt.plot(x, y)\n",
    "plt.show()"
   ]
  },
  {
   "cell_type": "code",
   "execution_count": 50,
   "metadata": {},
   "outputs": [
    {
     "data": {
      "image/png": "[encoded data removed]",
      "text/plain": [
       "<Figure size 432x288 with 1 Axes>"
      ]
     },
     "metadata": {
      "needs_background": "light"
     },
     "output_type": "display_data"
    }
   ],
   "source": [
    "\n",
    "x = df2['new_tests_smoothed']\n",
    "y = df2['total_cases']\n",
    "\n",
    "plt.plot(x, y)\n",
    "plt.show()"
   ]
  },
  {
   "cell_type": "code",
   "execution_count": 51,
   "metadata": {},
   "outputs": [
    {
     "data": {
      "image/png": "[encoded data removed]",
      "text/plain": [
       "<Figure size 432x288 with 1 Axes>"
      ]
     },
     "metadata": {
      "needs_background": "light"
     },
     "output_type": "display_data"
    }
   ],
   "source": [
    "\n",
    "x = df2['new_tests_smoothed_per_thousand']\n",
    "y = df2['total_cases']\n",
    "\n",
    "plt.plot(x, y)\n",
    "plt.show()"
   ]
  },
  {
   "cell_type": "code",
   "execution_count": 52,
   "metadata": {},
   "outputs": [
    {
     "data": {
      "image/png": "[encoded data removed]",
      "text/plain": [
       "<Figure size 432x288 with 1 Axes>"
      ]
     },
     "metadata": {
      "needs_background": "light"
     },
     "output_type": "display_data"
    }
   ],
   "source": [
    "x = df2['new_cases_per_million']\n",
    "y = df2['total_cases']\n",
    "\n",
    "plt.plot(x, y)\n",
    "plt.show()"
   ]
  },
  {
   "cell_type": "code",
   "execution_count": 53,
   "metadata": {},
   "outputs": [
    {
     "data": {
      "image/png": "[encoded data removed]",
      "text/plain": [
       "<Figure size 432x288 with 1 Axes>"
      ]
     },
     "metadata": {
      "needs_background": "light"
     },
     "output_type": "display_data"
    }
   ],
   "source": [
    "x = df2['diabetes_prevalence']\n",
    "y = df2['total_cases']\n",
    "\n",
    "plt.plot(x, y)\n",
    "plt.show()"
   ]
  },
  {
   "cell_type": "code",
   "execution_count": 54,
   "metadata": {},
   "outputs": [
    {
     "data": {
      "image/png": "[encoded data removed]",
      "text/plain": [
       "<Figure size 432x288 with 1 Axes>"
      ]
     },
     "metadata": {
      "needs_background": "light"
     },
     "output_type": "display_data"
    }
   ],
   "source": [
    "\n",
    "x = df2['cardiovasc_death_rate']\n",
    "y = df2['total_cases']\n",
    "\n",
    "plt.plot(x, y)\n",
    "plt.show()"
   ]
  },
  {
   "cell_type": "code",
   "execution_count": 55,
   "metadata": {},
   "outputs": [
    {
     "data": {
      "image/png": "[encoded data removed]",
      "text/plain": [
       "<Figure size 432x288 with 1 Axes>"
      ]
     },
     "metadata": {
      "needs_background": "light"
     },
     "output_type": "display_data"
    }
   ],
   "source": [
    "x = df2['extreme_poverty']\n",
    "y = df2['total_cases']\n",
    "\n",
    "plt.plot(x, y)\n",
    "plt.show()"
   ]
  },
  {
   "cell_type": "markdown",
   "metadata": {},
   "source": [
    "# Convert date column to ordinal"
   ]
  },
  {
   "cell_type": "code",
   "execution_count": 56,
   "metadata": {},
   "outputs": [
    {
     "name": "stderr",
     "output_type": "stream",
     "text": [
      "D:\\Dhrumil\\Anaconda\\lib\\site-packages\\ipykernel_launcher.py:2: SettingWithCopyWarning: \n",
      "A value is trying to be set on a copy of a slice from a DataFrame.\n",
      "Try using .loc[row_indexer,col_indexer] = value instead\n",
      "\n",
      "See the caveats in the documentation: https://pandas.pydata.org/pandas-docs/stable/user_guide/indexing.html#returning-a-view-versus-a-copy\n",
      "  \n",
      "D:\\Dhrumil\\Anaconda\\lib\\site-packages\\ipykernel_launcher.py:3: SettingWithCopyWarning: \n",
      "A value is trying to be set on a copy of a slice from a DataFrame.\n",
      "Try using .loc[row_indexer,col_indexer] = value instead\n",
      "\n",
      "See the caveats in the documentation: https://pandas.pydata.org/pandas-docs/stable/user_guide/indexing.html#returning-a-view-versus-a-copy\n",
      "  This is separate from the ipykernel package so we can avoid doing imports until\n"
     ]
    }
   ],
   "source": [
    "import datetime as dt\n",
    "df2[\"date\"]=pd.to_datetime(df[\"date\"])\n",
    "df2[\"date\"]=df2[\"date\"].map(dt.datetime.toordinal)"
   ]
  },
  {
   "cell_type": "code",
   "execution_count": 57,
   "metadata": {},
   "outputs": [
    {
     "data": {
      "text/plain": [
       "15033    737424\n",
       "15034    737425\n",
       "15035    737426\n",
       "15036    737427\n",
       "15037    737428\n",
       "Name: date, dtype: int64"
      ]
     },
     "execution_count": 57,
     "metadata": {},
     "output_type": "execute_result"
    }
   ],
   "source": [
    "df2[\"date\"].head()"
   ]
  },
  {
   "cell_type": "code",
   "execution_count": 58,
   "metadata": {},
   "outputs": [
    {
     "name": "stdout",
     "output_type": "stream",
     "text": [
      "date\n",
      "total_cases\n",
      "new_cases\n",
      "total_deaths\n",
      "new_deaths\n",
      "total_cases_per_million\n",
      "new_cases_per_million\n",
      "total_deaths_per_million\n",
      "new_deaths_per_million\n",
      "new_tests\n",
      "total_tests\n",
      "total_tests_per_thousand\n",
      "new_tests_per_thousand\n",
      "new_tests_smoothed\n",
      "new_tests_smoothed_per_thousand\n",
      "tests_per_case\n",
      "positive_rate\n",
      "stringency_index\n",
      "population\n",
      "population_density\n",
      "median_age\n",
      "aged_65_older\n",
      "aged_70_older\n",
      "gdp_per_capita\n",
      "extreme_poverty\n",
      "cardiovasc_death_rate\n",
      "diabetes_prevalence\n",
      "female_smokers\n",
      "male_smokers\n",
      "handwashing_facilities\n",
      "hospital_beds_per_thousand\n",
      "life_expectancy\n"
     ]
    }
   ],
   "source": [
    "for i in df2:\n",
    "    print(i)"
   ]
  },
  {
   "cell_type": "code",
   "execution_count": 59,
   "metadata": {},
   "outputs": [
    {
     "data": {
      "text/plain": [
       "date                               0\n",
       "total_cases                        0\n",
       "new_cases                          0\n",
       "total_deaths                       0\n",
       "new_deaths                         0\n",
       "total_cases_per_million            0\n",
       "new_cases_per_million              0\n",
       "total_deaths_per_million           0\n",
       "new_deaths_per_million             0\n",
       "new_tests                          0\n",
       "total_tests                        0\n",
       "total_tests_per_thousand           0\n",
       "new_tests_per_thousand             0\n",
       "new_tests_smoothed                 0\n",
       "new_tests_smoothed_per_thousand    0\n",
       "tests_per_case                     0\n",
       "positive_rate                      0\n",
       "stringency_index                   0\n",
       "population                         0\n",
       "population_density                 0\n",
       "median_age                         0\n",
       "aged_65_older                      0\n",
       "aged_70_older                      0\n",
       "gdp_per_capita                     0\n",
       "extreme_poverty                    0\n",
       "cardiovasc_death_rate              0\n",
       "diabetes_prevalence                0\n",
       "female_smokers                     0\n",
       "male_smokers                       0\n",
       "handwashing_facilities             0\n",
       "hospital_beds_per_thousand         0\n",
       "life_expectancy                    0\n",
       "dtype: int64"
      ]
     },
     "execution_count": 59,
     "metadata": {},
     "output_type": "execute_result"
    }
   ],
   "source": [
    "df2.isnull().sum()"
   ]
  },
  {
   "cell_type": "code",
   "execution_count": 60,
   "metadata": {},
   "outputs": [
    {
     "data": {
      "text/html": [
       "<div>\n",
       "<style scoped>\n",
       "    .dataframe tbody tr th:only-of-type {\n",
       "        vertical-align: middle;\n",
       "    }\n",
       "\n",
       "    .dataframe tbody tr th {\n",
       "        vertical-align: top;\n",
       "    }\n",
       "\n",
       "    .dataframe thead th {\n",
       "        text-align: right;\n",
       "    }\n",
       "</style>\n",
       "<table border=\"1\" class=\"dataframe\">\n",
       "  <thead>\n",
       "    <tr style=\"text-align: right;\">\n",
       "      <th></th>\n",
       "      <th>date</th>\n",
       "      <th>total_cases</th>\n",
       "      <th>new_cases</th>\n",
       "      <th>total_deaths</th>\n",
       "      <th>new_deaths</th>\n",
       "      <th>total_cases_per_million</th>\n",
       "      <th>new_cases_per_million</th>\n",
       "      <th>total_deaths_per_million</th>\n",
       "      <th>new_deaths_per_million</th>\n",
       "      <th>new_tests</th>\n",
       "      <th>...</th>\n",
       "      <th>aged_70_older</th>\n",
       "      <th>gdp_per_capita</th>\n",
       "      <th>extreme_poverty</th>\n",
       "      <th>cardiovasc_death_rate</th>\n",
       "      <th>diabetes_prevalence</th>\n",
       "      <th>female_smokers</th>\n",
       "      <th>male_smokers</th>\n",
       "      <th>handwashing_facilities</th>\n",
       "      <th>hospital_beds_per_thousand</th>\n",
       "      <th>life_expectancy</th>\n",
       "    </tr>\n",
       "  </thead>\n",
       "  <tbody>\n",
       "    <tr>\n",
       "      <th>15033</th>\n",
       "      <td>737424</td>\n",
       "      <td>0.0</td>\n",
       "      <td>0.0</td>\n",
       "      <td>0.0</td>\n",
       "      <td>0.0</td>\n",
       "      <td>0.000</td>\n",
       "      <td>0.000</td>\n",
       "      <td>0.000</td>\n",
       "      <td>0.000</td>\n",
       "      <td>170654.751938</td>\n",
       "      <td>...</td>\n",
       "      <td>3.414</td>\n",
       "      <td>6426.674</td>\n",
       "      <td>21.2</td>\n",
       "      <td>282.28</td>\n",
       "      <td>10.39</td>\n",
       "      <td>1.9</td>\n",
       "      <td>20.6</td>\n",
       "      <td>59.55</td>\n",
       "      <td>0.53</td>\n",
       "      <td>69.66</td>\n",
       "    </tr>\n",
       "    <tr>\n",
       "      <th>15034</th>\n",
       "      <td>737425</td>\n",
       "      <td>0.0</td>\n",
       "      <td>0.0</td>\n",
       "      <td>0.0</td>\n",
       "      <td>0.0</td>\n",
       "      <td>0.000</td>\n",
       "      <td>0.000</td>\n",
       "      <td>0.000</td>\n",
       "      <td>0.000</td>\n",
       "      <td>170654.751938</td>\n",
       "      <td>...</td>\n",
       "      <td>3.414</td>\n",
       "      <td>6426.674</td>\n",
       "      <td>21.2</td>\n",
       "      <td>282.28</td>\n",
       "      <td>10.39</td>\n",
       "      <td>1.9</td>\n",
       "      <td>20.6</td>\n",
       "      <td>59.55</td>\n",
       "      <td>0.53</td>\n",
       "      <td>69.66</td>\n",
       "    </tr>\n",
       "    <tr>\n",
       "      <th>15035</th>\n",
       "      <td>737426</td>\n",
       "      <td>0.0</td>\n",
       "      <td>0.0</td>\n",
       "      <td>0.0</td>\n",
       "      <td>0.0</td>\n",
       "      <td>0.000</td>\n",
       "      <td>0.000</td>\n",
       "      <td>0.000</td>\n",
       "      <td>0.000</td>\n",
       "      <td>170654.751938</td>\n",
       "      <td>...</td>\n",
       "      <td>3.414</td>\n",
       "      <td>6426.674</td>\n",
       "      <td>21.2</td>\n",
       "      <td>282.28</td>\n",
       "      <td>10.39</td>\n",
       "      <td>1.9</td>\n",
       "      <td>20.6</td>\n",
       "      <td>59.55</td>\n",
       "      <td>0.53</td>\n",
       "      <td>69.66</td>\n",
       "    </tr>\n",
       "    <tr>\n",
       "      <th>15036</th>\n",
       "      <td>737427</td>\n",
       "      <td>0.0</td>\n",
       "      <td>0.0</td>\n",
       "      <td>0.0</td>\n",
       "      <td>0.0</td>\n",
       "      <td>0.000</td>\n",
       "      <td>0.000</td>\n",
       "      <td>0.000</td>\n",
       "      <td>0.000</td>\n",
       "      <td>170654.751938</td>\n",
       "      <td>...</td>\n",
       "      <td>3.414</td>\n",
       "      <td>6426.674</td>\n",
       "      <td>21.2</td>\n",
       "      <td>282.28</td>\n",
       "      <td>10.39</td>\n",
       "      <td>1.9</td>\n",
       "      <td>20.6</td>\n",
       "      <td>59.55</td>\n",
       "      <td>0.53</td>\n",
       "      <td>69.66</td>\n",
       "    </tr>\n",
       "    <tr>\n",
       "      <th>15037</th>\n",
       "      <td>737428</td>\n",
       "      <td>0.0</td>\n",
       "      <td>0.0</td>\n",
       "      <td>0.0</td>\n",
       "      <td>0.0</td>\n",
       "      <td>0.000</td>\n",
       "      <td>0.000</td>\n",
       "      <td>0.000</td>\n",
       "      <td>0.000</td>\n",
       "      <td>170654.751938</td>\n",
       "      <td>...</td>\n",
       "      <td>3.414</td>\n",
       "      <td>6426.674</td>\n",
       "      <td>21.2</td>\n",
       "      <td>282.28</td>\n",
       "      <td>10.39</td>\n",
       "      <td>1.9</td>\n",
       "      <td>20.6</td>\n",
       "      <td>59.55</td>\n",
       "      <td>0.53</td>\n",
       "      <td>69.66</td>\n",
       "    </tr>\n",
       "    <tr>\n",
       "      <th>...</th>\n",
       "      <td>...</td>\n",
       "      <td>...</td>\n",
       "      <td>...</td>\n",
       "      <td>...</td>\n",
       "      <td>...</td>\n",
       "      <td>...</td>\n",
       "      <td>...</td>\n",
       "      <td>...</td>\n",
       "      <td>...</td>\n",
       "      <td>...</td>\n",
       "      <td>...</td>\n",
       "      <td>...</td>\n",
       "      <td>...</td>\n",
       "      <td>...</td>\n",
       "      <td>...</td>\n",
       "      <td>...</td>\n",
       "      <td>...</td>\n",
       "      <td>...</td>\n",
       "      <td>...</td>\n",
       "      <td>...</td>\n",
       "      <td>...</td>\n",
       "    </tr>\n",
       "    <tr>\n",
       "      <th>15247</th>\n",
       "      <td>737639</td>\n",
       "      <td>1750723.0</td>\n",
       "      <td>54735.0</td>\n",
       "      <td>37364.0</td>\n",
       "      <td>853.0</td>\n",
       "      <td>1268.636</td>\n",
       "      <td>39.663</td>\n",
       "      <td>27.075</td>\n",
       "      <td>0.618</td>\n",
       "      <td>463172.000000</td>\n",
       "      <td>...</td>\n",
       "      <td>3.414</td>\n",
       "      <td>6426.674</td>\n",
       "      <td>21.2</td>\n",
       "      <td>282.28</td>\n",
       "      <td>10.39</td>\n",
       "      <td>1.9</td>\n",
       "      <td>20.6</td>\n",
       "      <td>59.55</td>\n",
       "      <td>0.53</td>\n",
       "      <td>69.66</td>\n",
       "    </tr>\n",
       "    <tr>\n",
       "      <th>15248</th>\n",
       "      <td>737640</td>\n",
       "      <td>1803695.0</td>\n",
       "      <td>52972.0</td>\n",
       "      <td>38135.0</td>\n",
       "      <td>771.0</td>\n",
       "      <td>1307.021</td>\n",
       "      <td>38.385</td>\n",
       "      <td>27.634</td>\n",
       "      <td>0.559</td>\n",
       "      <td>381027.000000</td>\n",
       "      <td>...</td>\n",
       "      <td>3.414</td>\n",
       "      <td>6426.674</td>\n",
       "      <td>21.2</td>\n",
       "      <td>282.28</td>\n",
       "      <td>10.39</td>\n",
       "      <td>1.9</td>\n",
       "      <td>20.6</td>\n",
       "      <td>59.55</td>\n",
       "      <td>0.53</td>\n",
       "      <td>69.66</td>\n",
       "    </tr>\n",
       "    <tr>\n",
       "      <th>15249</th>\n",
       "      <td>737641</td>\n",
       "      <td>1855745.0</td>\n",
       "      <td>52050.0</td>\n",
       "      <td>38938.0</td>\n",
       "      <td>803.0</td>\n",
       "      <td>1344.738</td>\n",
       "      <td>37.717</td>\n",
       "      <td>28.216</td>\n",
       "      <td>0.582</td>\n",
       "      <td>661892.000000</td>\n",
       "      <td>...</td>\n",
       "      <td>3.414</td>\n",
       "      <td>6426.674</td>\n",
       "      <td>21.2</td>\n",
       "      <td>282.28</td>\n",
       "      <td>10.39</td>\n",
       "      <td>1.9</td>\n",
       "      <td>20.6</td>\n",
       "      <td>59.55</td>\n",
       "      <td>0.53</td>\n",
       "      <td>69.66</td>\n",
       "    </tr>\n",
       "    <tr>\n",
       "      <th>15250</th>\n",
       "      <td>737642</td>\n",
       "      <td>1908254.0</td>\n",
       "      <td>52509.0</td>\n",
       "      <td>39795.0</td>\n",
       "      <td>857.0</td>\n",
       "      <td>1382.788</td>\n",
       "      <td>38.050</td>\n",
       "      <td>28.837</td>\n",
       "      <td>0.621</td>\n",
       "      <td>619652.000000</td>\n",
       "      <td>...</td>\n",
       "      <td>3.414</td>\n",
       "      <td>6426.674</td>\n",
       "      <td>21.2</td>\n",
       "      <td>282.28</td>\n",
       "      <td>10.39</td>\n",
       "      <td>1.9</td>\n",
       "      <td>20.6</td>\n",
       "      <td>59.55</td>\n",
       "      <td>0.53</td>\n",
       "      <td>69.66</td>\n",
       "    </tr>\n",
       "    <tr>\n",
       "      <th>15251</th>\n",
       "      <td>737643</td>\n",
       "      <td>1964536.0</td>\n",
       "      <td>56282.0</td>\n",
       "      <td>40699.0</td>\n",
       "      <td>904.0</td>\n",
       "      <td>1423.572</td>\n",
       "      <td>40.784</td>\n",
       "      <td>29.492</td>\n",
       "      <td>0.655</td>\n",
       "      <td>664949.000000</td>\n",
       "      <td>...</td>\n",
       "      <td>3.414</td>\n",
       "      <td>6426.674</td>\n",
       "      <td>21.2</td>\n",
       "      <td>282.28</td>\n",
       "      <td>10.39</td>\n",
       "      <td>1.9</td>\n",
       "      <td>20.6</td>\n",
       "      <td>59.55</td>\n",
       "      <td>0.53</td>\n",
       "      <td>69.66</td>\n",
       "    </tr>\n",
       "  </tbody>\n",
       "</table>\n",
       "<p>219 rows × 32 columns</p>\n",
       "</div>"
      ],
      "text/plain": [
       "         date  total_cases  new_cases  total_deaths  new_deaths  \\\n",
       "15033  737424          0.0        0.0           0.0         0.0   \n",
       "15034  737425          0.0        0.0           0.0         0.0   \n",
       "15035  737426          0.0        0.0           0.0         0.0   \n",
       "15036  737427          0.0        0.0           0.0         0.0   \n",
       "15037  737428          0.0        0.0           0.0         0.0   \n",
       "...       ...          ...        ...           ...         ...   \n",
       "15247  737639    1750723.0    54735.0       37364.0       853.0   \n",
       "15248  737640    1803695.0    52972.0       38135.0       771.0   \n",
       "15249  737641    1855745.0    52050.0       38938.0       803.0   \n",
       "15250  737642    1908254.0    52509.0       39795.0       857.0   \n",
       "15251  737643    1964536.0    56282.0       40699.0       904.0   \n",
       "\n",
       "       total_cases_per_million  new_cases_per_million  \\\n",
       "15033                    0.000                  0.000   \n",
       "15034                    0.000                  0.000   \n",
       "15035                    0.000                  0.000   \n",
       "15036                    0.000                  0.000   \n",
       "15037                    0.000                  0.000   \n",
       "...                        ...                    ...   \n",
       "15247                 1268.636                 39.663   \n",
       "15248                 1307.021                 38.385   \n",
       "15249                 1344.738                 37.717   \n",
       "15250                 1382.788                 38.050   \n",
       "15251                 1423.572                 40.784   \n",
       "\n",
       "       total_deaths_per_million  new_deaths_per_million      new_tests  ...  \\\n",
       "15033                     0.000                   0.000  170654.751938  ...   \n",
       "15034                     0.000                   0.000  170654.751938  ...   \n",
       "15035                     0.000                   0.000  170654.751938  ...   \n",
       "15036                     0.000                   0.000  170654.751938  ...   \n",
       "15037                     0.000                   0.000  170654.751938  ...   \n",
       "...                         ...                     ...            ...  ...   \n",
       "15247                    27.075                   0.618  463172.000000  ...   \n",
       "15248                    27.634                   0.559  381027.000000  ...   \n",
       "15249                    28.216                   0.582  661892.000000  ...   \n",
       "15250                    28.837                   0.621  619652.000000  ...   \n",
       "15251                    29.492                   0.655  664949.000000  ...   \n",
       "\n",
       "       aged_70_older  gdp_per_capita  extreme_poverty  cardiovasc_death_rate  \\\n",
       "15033          3.414        6426.674             21.2                 282.28   \n",
       "15034          3.414        6426.674             21.2                 282.28   \n",
       "15035          3.414        6426.674             21.2                 282.28   \n",
       "15036          3.414        6426.674             21.2                 282.28   \n",
       "15037          3.414        6426.674             21.2                 282.28   \n",
       "...              ...             ...              ...                    ...   \n",
       "15247          3.414        6426.674             21.2                 282.28   \n",
       "15248          3.414        6426.674             21.2                 282.28   \n",
       "15249          3.414        6426.674             21.2                 282.28   \n",
       "15250          3.414        6426.674             21.2                 282.28   \n",
       "15251          3.414        6426.674             21.2                 282.28   \n",
       "\n",
       "       diabetes_prevalence  female_smokers  male_smokers  \\\n",
       "15033                10.39             1.9          20.6   \n",
       "15034                10.39             1.9          20.6   \n",
       "15035                10.39             1.9          20.6   \n",
       "15036                10.39             1.9          20.6   \n",
       "15037                10.39             1.9          20.6   \n",
       "...                    ...             ...           ...   \n",
       "15247                10.39             1.9          20.6   \n",
       "15248                10.39             1.9          20.6   \n",
       "15249                10.39             1.9          20.6   \n",
       "15250                10.39             1.9          20.6   \n",
       "15251                10.39             1.9          20.6   \n",
       "\n",
       "       handwashing_facilities  hospital_beds_per_thousand  life_expectancy  \n",
       "15033                   59.55                        0.53            69.66  \n",
       "15034                   59.55                        0.53            69.66  \n",
       "15035                   59.55                        0.53            69.66  \n",
       "15036                   59.55                        0.53            69.66  \n",
       "15037                   59.55                        0.53            69.66  \n",
       "...                       ...                         ...              ...  \n",
       "15247                   59.55                        0.53            69.66  \n",
       "15248                   59.55                        0.53            69.66  \n",
       "15249                   59.55                        0.53            69.66  \n",
       "15250                   59.55                        0.53            69.66  \n",
       "15251                   59.55                        0.53            69.66  \n",
       "\n",
       "[219 rows x 32 columns]"
      ]
     },
     "execution_count": 60,
     "metadata": {},
     "output_type": "execute_result"
    }
   ],
   "source": [
    "df2._get_numeric_data()"
   ]
  },
  {
   "cell_type": "code",
   "execution_count": 61,
   "metadata": {},
   "outputs": [
    {
     "data": {
      "text/html": [
       "<div>\n",
       "<style scoped>\n",
       "    .dataframe tbody tr th:only-of-type {\n",
       "        vertical-align: middle;\n",
       "    }\n",
       "\n",
       "    .dataframe tbody tr th {\n",
       "        vertical-align: top;\n",
       "    }\n",
       "\n",
       "    .dataframe thead th {\n",
       "        text-align: right;\n",
       "    }\n",
       "</style>\n",
       "<table border=\"1\" class=\"dataframe\">\n",
       "  <thead>\n",
       "    <tr style=\"text-align: right;\">\n",
       "      <th></th>\n",
       "      <th>date</th>\n",
       "      <th>total_cases</th>\n",
       "      <th>new_cases</th>\n",
       "      <th>total_deaths</th>\n",
       "      <th>new_deaths</th>\n",
       "      <th>total_cases_per_million</th>\n",
       "      <th>new_cases_per_million</th>\n",
       "      <th>total_deaths_per_million</th>\n",
       "      <th>new_deaths_per_million</th>\n",
       "      <th>new_tests</th>\n",
       "      <th>...</th>\n",
       "      <th>aged_70_older</th>\n",
       "      <th>gdp_per_capita</th>\n",
       "      <th>extreme_poverty</th>\n",
       "      <th>cardiovasc_death_rate</th>\n",
       "      <th>diabetes_prevalence</th>\n",
       "      <th>female_smokers</th>\n",
       "      <th>male_smokers</th>\n",
       "      <th>handwashing_facilities</th>\n",
       "      <th>hospital_beds_per_thousand</th>\n",
       "      <th>life_expectancy</th>\n",
       "    </tr>\n",
       "  </thead>\n",
       "  <tbody>\n",
       "    <tr>\n",
       "      <th>15033</th>\n",
       "      <td>737424</td>\n",
       "      <td>0.0</td>\n",
       "      <td>0.0</td>\n",
       "      <td>0.0</td>\n",
       "      <td>0.0</td>\n",
       "      <td>0.000</td>\n",
       "      <td>0.000</td>\n",
       "      <td>0.000</td>\n",
       "      <td>0.000</td>\n",
       "      <td>170654.751938</td>\n",
       "      <td>...</td>\n",
       "      <td>3.414</td>\n",
       "      <td>6426.674</td>\n",
       "      <td>21.2</td>\n",
       "      <td>282.28</td>\n",
       "      <td>10.39</td>\n",
       "      <td>1.9</td>\n",
       "      <td>20.6</td>\n",
       "      <td>59.55</td>\n",
       "      <td>0.53</td>\n",
       "      <td>69.66</td>\n",
       "    </tr>\n",
       "    <tr>\n",
       "      <th>15034</th>\n",
       "      <td>737425</td>\n",
       "      <td>0.0</td>\n",
       "      <td>0.0</td>\n",
       "      <td>0.0</td>\n",
       "      <td>0.0</td>\n",
       "      <td>0.000</td>\n",
       "      <td>0.000</td>\n",
       "      <td>0.000</td>\n",
       "      <td>0.000</td>\n",
       "      <td>170654.751938</td>\n",
       "      <td>...</td>\n",
       "      <td>3.414</td>\n",
       "      <td>6426.674</td>\n",
       "      <td>21.2</td>\n",
       "      <td>282.28</td>\n",
       "      <td>10.39</td>\n",
       "      <td>1.9</td>\n",
       "      <td>20.6</td>\n",
       "      <td>59.55</td>\n",
       "      <td>0.53</td>\n",
       "      <td>69.66</td>\n",
       "    </tr>\n",
       "    <tr>\n",
       "      <th>15035</th>\n",
       "      <td>737426</td>\n",
       "      <td>0.0</td>\n",
       "      <td>0.0</td>\n",
       "      <td>0.0</td>\n",
       "      <td>0.0</td>\n",
       "      <td>0.000</td>\n",
       "      <td>0.000</td>\n",
       "      <td>0.000</td>\n",
       "      <td>0.000</td>\n",
       "      <td>170654.751938</td>\n",
       "      <td>...</td>\n",
       "      <td>3.414</td>\n",
       "      <td>6426.674</td>\n",
       "      <td>21.2</td>\n",
       "      <td>282.28</td>\n",
       "      <td>10.39</td>\n",
       "      <td>1.9</td>\n",
       "      <td>20.6</td>\n",
       "      <td>59.55</td>\n",
       "      <td>0.53</td>\n",
       "      <td>69.66</td>\n",
       "    </tr>\n",
       "    <tr>\n",
       "      <th>15036</th>\n",
       "      <td>737427</td>\n",
       "      <td>0.0</td>\n",
       "      <td>0.0</td>\n",
       "      <td>0.0</td>\n",
       "      <td>0.0</td>\n",
       "      <td>0.000</td>\n",
       "      <td>0.000</td>\n",
       "      <td>0.000</td>\n",
       "      <td>0.000</td>\n",
       "      <td>170654.751938</td>\n",
       "      <td>...</td>\n",
       "      <td>3.414</td>\n",
       "      <td>6426.674</td>\n",
       "      <td>21.2</td>\n",
       "      <td>282.28</td>\n",
       "      <td>10.39</td>\n",
       "      <td>1.9</td>\n",
       "      <td>20.6</td>\n",
       "      <td>59.55</td>\n",
       "      <td>0.53</td>\n",
       "      <td>69.66</td>\n",
       "    </tr>\n",
       "    <tr>\n",
       "      <th>15037</th>\n",
       "      <td>737428</td>\n",
       "      <td>0.0</td>\n",
       "      <td>0.0</td>\n",
       "      <td>0.0</td>\n",
       "      <td>0.0</td>\n",
       "      <td>0.000</td>\n",
       "      <td>0.000</td>\n",
       "      <td>0.000</td>\n",
       "      <td>0.000</td>\n",
       "      <td>170654.751938</td>\n",
       "      <td>...</td>\n",
       "      <td>3.414</td>\n",
       "      <td>6426.674</td>\n",
       "      <td>21.2</td>\n",
       "      <td>282.28</td>\n",
       "      <td>10.39</td>\n",
       "      <td>1.9</td>\n",
       "      <td>20.6</td>\n",
       "      <td>59.55</td>\n",
       "      <td>0.53</td>\n",
       "      <td>69.66</td>\n",
       "    </tr>\n",
       "    <tr>\n",
       "      <th>...</th>\n",
       "      <td>...</td>\n",
       "      <td>...</td>\n",
       "      <td>...</td>\n",
       "      <td>...</td>\n",
       "      <td>...</td>\n",
       "      <td>...</td>\n",
       "      <td>...</td>\n",
       "      <td>...</td>\n",
       "      <td>...</td>\n",
       "      <td>...</td>\n",
       "      <td>...</td>\n",
       "      <td>...</td>\n",
       "      <td>...</td>\n",
       "      <td>...</td>\n",
       "      <td>...</td>\n",
       "      <td>...</td>\n",
       "      <td>...</td>\n",
       "      <td>...</td>\n",
       "      <td>...</td>\n",
       "      <td>...</td>\n",
       "      <td>...</td>\n",
       "    </tr>\n",
       "    <tr>\n",
       "      <th>15247</th>\n",
       "      <td>737639</td>\n",
       "      <td>1750723.0</td>\n",
       "      <td>54735.0</td>\n",
       "      <td>37364.0</td>\n",
       "      <td>853.0</td>\n",
       "      <td>1268.636</td>\n",
       "      <td>39.663</td>\n",
       "      <td>27.075</td>\n",
       "      <td>0.618</td>\n",
       "      <td>463172.000000</td>\n",
       "      <td>...</td>\n",
       "      <td>3.414</td>\n",
       "      <td>6426.674</td>\n",
       "      <td>21.2</td>\n",
       "      <td>282.28</td>\n",
       "      <td>10.39</td>\n",
       "      <td>1.9</td>\n",
       "      <td>20.6</td>\n",
       "      <td>59.55</td>\n",
       "      <td>0.53</td>\n",
       "      <td>69.66</td>\n",
       "    </tr>\n",
       "    <tr>\n",
       "      <th>15248</th>\n",
       "      <td>737640</td>\n",
       "      <td>1803695.0</td>\n",
       "      <td>52972.0</td>\n",
       "      <td>38135.0</td>\n",
       "      <td>771.0</td>\n",
       "      <td>1307.021</td>\n",
       "      <td>38.385</td>\n",
       "      <td>27.634</td>\n",
       "      <td>0.559</td>\n",
       "      <td>381027.000000</td>\n",
       "      <td>...</td>\n",
       "      <td>3.414</td>\n",
       "      <td>6426.674</td>\n",
       "      <td>21.2</td>\n",
       "      <td>282.28</td>\n",
       "      <td>10.39</td>\n",
       "      <td>1.9</td>\n",
       "      <td>20.6</td>\n",
       "      <td>59.55</td>\n",
       "      <td>0.53</td>\n",
       "      <td>69.66</td>\n",
       "    </tr>\n",
       "    <tr>\n",
       "      <th>15249</th>\n",
       "      <td>737641</td>\n",
       "      <td>1855745.0</td>\n",
       "      <td>52050.0</td>\n",
       "      <td>38938.0</td>\n",
       "      <td>803.0</td>\n",
       "      <td>1344.738</td>\n",
       "      <td>37.717</td>\n",
       "      <td>28.216</td>\n",
       "      <td>0.582</td>\n",
       "      <td>661892.000000</td>\n",
       "      <td>...</td>\n",
       "      <td>3.414</td>\n",
       "      <td>6426.674</td>\n",
       "      <td>21.2</td>\n",
       "      <td>282.28</td>\n",
       "      <td>10.39</td>\n",
       "      <td>1.9</td>\n",
       "      <td>20.6</td>\n",
       "      <td>59.55</td>\n",
       "      <td>0.53</td>\n",
       "      <td>69.66</td>\n",
       "    </tr>\n",
       "    <tr>\n",
       "      <th>15250</th>\n",
       "      <td>737642</td>\n",
       "      <td>1908254.0</td>\n",
       "      <td>52509.0</td>\n",
       "      <td>39795.0</td>\n",
       "      <td>857.0</td>\n",
       "      <td>1382.788</td>\n",
       "      <td>38.050</td>\n",
       "      <td>28.837</td>\n",
       "      <td>0.621</td>\n",
       "      <td>619652.000000</td>\n",
       "      <td>...</td>\n",
       "      <td>3.414</td>\n",
       "      <td>6426.674</td>\n",
       "      <td>21.2</td>\n",
       "      <td>282.28</td>\n",
       "      <td>10.39</td>\n",
       "      <td>1.9</td>\n",
       "      <td>20.6</td>\n",
       "      <td>59.55</td>\n",
       "      <td>0.53</td>\n",
       "      <td>69.66</td>\n",
       "    </tr>\n",
       "    <tr>\n",
       "      <th>15251</th>\n",
       "      <td>737643</td>\n",
       "      <td>1964536.0</td>\n",
       "      <td>56282.0</td>\n",
       "      <td>40699.0</td>\n",
       "      <td>904.0</td>\n",
       "      <td>1423.572</td>\n",
       "      <td>40.784</td>\n",
       "      <td>29.492</td>\n",
       "      <td>0.655</td>\n",
       "      <td>664949.000000</td>\n",
       "      <td>...</td>\n",
       "      <td>3.414</td>\n",
       "      <td>6426.674</td>\n",
       "      <td>21.2</td>\n",
       "      <td>282.28</td>\n",
       "      <td>10.39</td>\n",
       "      <td>1.9</td>\n",
       "      <td>20.6</td>\n",
       "      <td>59.55</td>\n",
       "      <td>0.53</td>\n",
       "      <td>69.66</td>\n",
       "    </tr>\n",
       "  </tbody>\n",
       "</table>\n",
       "<p>219 rows × 32 columns</p>\n",
       "</div>"
      ],
      "text/plain": [
       "         date  total_cases  new_cases  total_deaths  new_deaths  \\\n",
       "15033  737424          0.0        0.0           0.0         0.0   \n",
       "15034  737425          0.0        0.0           0.0         0.0   \n",
       "15035  737426          0.0        0.0           0.0         0.0   \n",
       "15036  737427          0.0        0.0           0.0         0.0   \n",
       "15037  737428          0.0        0.0           0.0         0.0   \n",
       "...       ...          ...        ...           ...         ...   \n",
       "15247  737639    1750723.0    54735.0       37364.0       853.0   \n",
       "15248  737640    1803695.0    52972.0       38135.0       771.0   \n",
       "15249  737641    1855745.0    52050.0       38938.0       803.0   \n",
       "15250  737642    1908254.0    52509.0       39795.0       857.0   \n",
       "15251  737643    1964536.0    56282.0       40699.0       904.0   \n",
       "\n",
       "       total_cases_per_million  new_cases_per_million  \\\n",
       "15033                    0.000                  0.000   \n",
       "15034                    0.000                  0.000   \n",
       "15035                    0.000                  0.000   \n",
       "15036                    0.000                  0.000   \n",
       "15037                    0.000                  0.000   \n",
       "...                        ...                    ...   \n",
       "15247                 1268.636                 39.663   \n",
       "15248                 1307.021                 38.385   \n",
       "15249                 1344.738                 37.717   \n",
       "15250                 1382.788                 38.050   \n",
       "15251                 1423.572                 40.784   \n",
       "\n",
       "       total_deaths_per_million  new_deaths_per_million      new_tests  ...  \\\n",
       "15033                     0.000                   0.000  170654.751938  ...   \n",
       "15034                     0.000                   0.000  170654.751938  ...   \n",
       "15035                     0.000                   0.000  170654.751938  ...   \n",
       "15036                     0.000                   0.000  170654.751938  ...   \n",
       "15037                     0.000                   0.000  170654.751938  ...   \n",
       "...                         ...                     ...            ...  ...   \n",
       "15247                    27.075                   0.618  463172.000000  ...   \n",
       "15248                    27.634                   0.559  381027.000000  ...   \n",
       "15249                    28.216                   0.582  661892.000000  ...   \n",
       "15250                    28.837                   0.621  619652.000000  ...   \n",
       "15251                    29.492                   0.655  664949.000000  ...   \n",
       "\n",
       "       aged_70_older  gdp_per_capita  extreme_poverty  cardiovasc_death_rate  \\\n",
       "15033          3.414        6426.674             21.2                 282.28   \n",
       "15034          3.414        6426.674             21.2                 282.28   \n",
       "15035          3.414        6426.674             21.2                 282.28   \n",
       "15036          3.414        6426.674             21.2                 282.28   \n",
       "15037          3.414        6426.674             21.2                 282.28   \n",
       "...              ...             ...              ...                    ...   \n",
       "15247          3.414        6426.674             21.2                 282.28   \n",
       "15248          3.414        6426.674             21.2                 282.28   \n",
       "15249          3.414        6426.674             21.2                 282.28   \n",
       "15250          3.414        6426.674             21.2                 282.28   \n",
       "15251          3.414        6426.674             21.2                 282.28   \n",
       "\n",
       "       diabetes_prevalence  female_smokers  male_smokers  \\\n",
       "15033                10.39             1.9          20.6   \n",
       "15034                10.39             1.9          20.6   \n",
       "15035                10.39             1.9          20.6   \n",
       "15036                10.39             1.9          20.6   \n",
       "15037                10.39             1.9          20.6   \n",
       "...                    ...             ...           ...   \n",
       "15247                10.39             1.9          20.6   \n",
       "15248                10.39             1.9          20.6   \n",
       "15249                10.39             1.9          20.6   \n",
       "15250                10.39             1.9          20.6   \n",
       "15251                10.39             1.9          20.6   \n",
       "\n",
       "       handwashing_facilities  hospital_beds_per_thousand  life_expectancy  \n",
       "15033                   59.55                        0.53            69.66  \n",
       "15034                   59.55                        0.53            69.66  \n",
       "15035                   59.55                        0.53            69.66  \n",
       "15036                   59.55                        0.53            69.66  \n",
       "15037                   59.55                        0.53            69.66  \n",
       "...                       ...                         ...              ...  \n",
       "15247                   59.55                        0.53            69.66  \n",
       "15248                   59.55                        0.53            69.66  \n",
       "15249                   59.55                        0.53            69.66  \n",
       "15250                   59.55                        0.53            69.66  \n",
       "15251                   59.55                        0.53            69.66  \n",
       "\n",
       "[219 rows x 32 columns]"
      ]
     },
     "execution_count": 61,
     "metadata": {},
     "output_type": "execute_result"
    }
   ],
   "source": [
    "df2"
   ]
  },
  {
   "cell_type": "markdown",
   "metadata": {},
   "source": [
    "# Train Test Split"
   ]
  },
  {
   "cell_type": "code",
   "execution_count": 62,
   "metadata": {},
   "outputs": [],
   "source": [
    "from sklearn.model_selection import train_test_split\n"
   ]
  },
  {
   "cell_type": "code",
   "execution_count": 63,
   "metadata": {},
   "outputs": [],
   "source": [
    "import sklearn.model_selection as model_selection\n",
    "X = df2.drop([\"total_cases\"],axis=1).values\n",
    "y = df2[\"total_cases\"].values\n",
    "X_train, X_test, y_train, y_test = model_selection.train_test_split(X, y, train_size=0.65,test_size=0.35, random_state=101)\n",
    "\n",
    "\n",
    "\n",
    "\n"
   ]
  },
  {
   "cell_type": "markdown",
   "metadata": {},
   "source": [
    "# Modeling"
   ]
  },
  {
   "cell_type": "code",
   "execution_count": 64,
   "metadata": {},
   "outputs": [],
   "source": [
    "from sklearn.linear_model import LinearRegression\n",
    "from sklearn import metrics"
   ]
  },
  {
   "cell_type": "code",
   "execution_count": 65,
   "metadata": {},
   "outputs": [
    {
     "data": {
      "text/plain": [
       "LinearRegression(copy_X=True, fit_intercept=True, n_jobs=None, normalize=False)"
      ]
     },
     "execution_count": 65,
     "metadata": {},
     "output_type": "execute_result"
    }
   ],
   "source": [
    "regressor = LinearRegression()  \n",
    "regressor.fit(X_train, y_train) \n",
    "\n"
   ]
  },
  {
   "cell_type": "code",
   "execution_count": 66,
   "metadata": {},
   "outputs": [],
   "source": [
    "y_pred = regressor.predict(X_test)\n"
   ]
  },
  {
   "cell_type": "code",
   "execution_count": 67,
   "metadata": {},
   "outputs": [],
   "source": [
    "df3 = pd.DataFrame({'Actual': y_test.flatten(), 'Predicted': y_pred.flatten()})\n"
   ]
  },
  {
   "cell_type": "code",
   "execution_count": 68,
   "metadata": {},
   "outputs": [
    {
     "data": {
      "text/plain": [
       "RandomForestRegressor(bootstrap=True, ccp_alpha=0.0, criterion='mse',\n",
       "                      max_depth=None, max_features='auto', max_leaf_nodes=None,\n",
       "                      max_samples=None, min_impurity_decrease=0.0,\n",
       "                      min_impurity_split=None, min_samples_leaf=1,\n",
       "                      min_samples_split=2, min_weight_fraction_leaf=0.0,\n",
       "                      n_estimators=100, n_jobs=None, oob_score=False,\n",
       "                      random_state=0, verbose=0, warm_start=False)"
      ]
     },
     "execution_count": 68,
     "metadata": {},
     "output_type": "execute_result"
    }
   ],
   "source": [
    "from sklearn.ensemble import RandomForestRegressor \n",
    "regressor1 = RandomForestRegressor(n_estimators = 100, random_state = 0) \n",
    "regressor1.fit(X, y)   "
   ]
  },
  {
   "cell_type": "code",
   "execution_count": 69,
   "metadata": {},
   "outputs": [
    {
     "data": {
      "text/plain": [
       "array([1.98000000e+00, 1.10355000e+05, 3.00000000e+00, 5.64037260e+05,\n",
       "       6.69280000e+02, 4.42100000e+01, 3.00000000e+00, 2.25023000e+03,\n",
       "       0.00000000e+00, 8.26899000e+03, 2.53410950e+05, 2.17845750e+05,\n",
       "       1.63501250e+05, 2.29369590e+05, 4.22678000e+03, 3.00000000e+00,\n",
       "       5.10446160e+05, 2.90675200e+04, 1.84002720e+05, 6.47559190e+05,\n",
       "       1.89550893e+06, 1.77028119e+06, 2.00000000e+00, 4.01145400e+04,\n",
       "       1.18373970e+05, 9.40000000e-01, 3.19632540e+05, 5.33925670e+05,\n",
       "       7.94847790e+05, 3.00000000e+00, 1.60930000e+02, 3.00000000e+00,\n",
       "       0.00000000e+00, 7.35795130e+05, 1.06676800e+04, 3.00000000e+00,\n",
       "       8.76100000e+01, 0.00000000e+00, 3.09800000e+01, 1.25706276e+06,\n",
       "       0.00000000e+00, 0.00000000e+00, 1.57709830e+05, 1.57015400e+04,\n",
       "       0.00000000e+00, 3.29303290e+05, 3.81870670e+05, 3.00000000e+00,\n",
       "       2.73500000e+01, 1.13000000e+00, 3.00000000e+00, 2.05274960e+05,\n",
       "       9.31357970e+05, 4.34635440e+05, 6.77498800e+04, 0.00000000e+00,\n",
       "       6.99540610e+05, 2.26299800e+04, 6.19991350e+05, 2.68430320e+05,\n",
       "       2.74205310e+05, 1.31139000e+03, 3.00000000e+00, 0.00000000e+00,\n",
       "       3.00000000e+00, 0.00000000e+00, 3.00000000e+00, 1.44068706e+06,\n",
       "       1.44827000e+04, 0.00000000e+00, 3.94367910e+05, 2.98000000e+00,\n",
       "       8.10964100e+04, 3.00000000e+00, 1.07919234e+06, 1.87250596e+06,\n",
       "       3.00000000e+00])"
      ]
     },
     "execution_count": 69,
     "metadata": {},
     "output_type": "execute_result"
    }
   ],
   "source": [
    "y_pred1 = regressor1.predict(X_test) \n",
    "y_pred1"
   ]
  },
  {
   "cell_type": "code",
   "execution_count": 70,
   "metadata": {},
   "outputs": [
    {
     "data": {
      "text/html": [
       "<div>\n",
       "<style scoped>\n",
       "    .dataframe tbody tr th:only-of-type {\n",
       "        vertical-align: middle;\n",
       "    }\n",
       "\n",
       "    .dataframe tbody tr th {\n",
       "        vertical-align: top;\n",
       "    }\n",
       "\n",
       "    .dataframe thead th {\n",
       "        text-align: right;\n",
       "    }\n",
       "</style>\n",
       "<table border=\"1\" class=\"dataframe\">\n",
       "  <thead>\n",
       "    <tr style=\"text-align: right;\">\n",
       "      <th></th>\n",
       "      <th>Actual</th>\n",
       "      <th>Predicted</th>\n",
       "    </tr>\n",
       "  </thead>\n",
       "  <tbody>\n",
       "    <tr>\n",
       "      <th>0</th>\n",
       "      <td>2.0</td>\n",
       "      <td>1.98</td>\n",
       "    </tr>\n",
       "    <tr>\n",
       "      <th>1</th>\n",
       "      <td>112359.0</td>\n",
       "      <td>110355.00</td>\n",
       "    </tr>\n",
       "    <tr>\n",
       "      <th>2</th>\n",
       "      <td>3.0</td>\n",
       "      <td>3.00</td>\n",
       "    </tr>\n",
       "    <tr>\n",
       "      <th>3</th>\n",
       "      <td>566840.0</td>\n",
       "      <td>564037.26</td>\n",
       "    </tr>\n",
       "    <tr>\n",
       "      <th>4</th>\n",
       "      <td>649.0</td>\n",
       "      <td>669.28</td>\n",
       "    </tr>\n",
       "    <tr>\n",
       "      <th>...</th>\n",
       "      <td>...</td>\n",
       "      <td>...</td>\n",
       "    </tr>\n",
       "    <tr>\n",
       "      <th>72</th>\n",
       "      <td>81970.0</td>\n",
       "      <td>81096.41</td>\n",
       "    </tr>\n",
       "    <tr>\n",
       "      <th>73</th>\n",
       "      <td>3.0</td>\n",
       "      <td>3.00</td>\n",
       "    </tr>\n",
       "    <tr>\n",
       "      <th>74</th>\n",
       "      <td>1077618.0</td>\n",
       "      <td>1079192.34</td>\n",
       "    </tr>\n",
       "    <tr>\n",
       "      <th>75</th>\n",
       "      <td>1908254.0</td>\n",
       "      <td>1872505.96</td>\n",
       "    </tr>\n",
       "    <tr>\n",
       "      <th>76</th>\n",
       "      <td>3.0</td>\n",
       "      <td>3.00</td>\n",
       "    </tr>\n",
       "  </tbody>\n",
       "</table>\n",
       "<p>77 rows × 2 columns</p>\n",
       "</div>"
      ],
      "text/plain": [
       "       Actual   Predicted\n",
       "0         2.0        1.98\n",
       "1    112359.0   110355.00\n",
       "2         3.0        3.00\n",
       "3    566840.0   564037.26\n",
       "4       649.0      669.28\n",
       "..        ...         ...\n",
       "72    81970.0    81096.41\n",
       "73        3.0        3.00\n",
       "74  1077618.0  1079192.34\n",
       "75  1908254.0  1872505.96\n",
       "76        3.0        3.00\n",
       "\n",
       "[77 rows x 2 columns]"
      ]
     },
     "execution_count": 70,
     "metadata": {},
     "output_type": "execute_result"
    }
   ],
   "source": [
    "df4 = pd.DataFrame({'Actual': y_test.flatten(), 'Predicted': y_pred1.flatten()})\n",
    "df4"
   ]
  },
  {
   "cell_type": "markdown",
   "metadata": {},
   "source": [
    "# Accuracy"
   ]
  },
  {
   "cell_type": "code",
   "execution_count": 71,
   "metadata": {},
   "outputs": [
    {
     "data": {
      "text/plain": [
       "0.9999999999993688"
      ]
     },
     "execution_count": 71,
     "metadata": {},
     "output_type": "execute_result"
    }
   ],
   "source": [
    "regressor.score(X_test,y_test)"
   ]
  },
  {
   "cell_type": "code",
   "execution_count": 72,
   "metadata": {},
   "outputs": [
    {
     "data": {
      "text/plain": [
       "0.9995090817475901"
      ]
     },
     "execution_count": 72,
     "metadata": {},
     "output_type": "execute_result"
    }
   ],
   "source": [
    "regressor1.score(X_test,y_test)"
   ]
  },
  {
   "cell_type": "code",
   "execution_count": 73,
   "metadata": {},
   "outputs": [
    {
     "name": "stdout",
     "output_type": "stream",
     "text": [
      "[1.44068706e+06 1.44827000e+04 0.00000000e+00 3.94367910e+05\n",
      " 2.98000000e+00 8.10964100e+04 3.00000000e+00 1.07919234e+06\n",
      " 1.87250596e+06 3.00000000e+00]\n"
     ]
    }
   ],
   "source": [
    "print(y_pred1[-10:])"
   ]
  },
  {
   "cell_type": "code",
   "execution_count": 74,
   "metadata": {},
   "outputs": [
    {
     "data": {
      "text/plain": [
       "15033    737424\n",
       "15034    737425\n",
       "15035    737426\n",
       "15036    737427\n",
       "15037    737428\n",
       "Name: date, dtype: int64"
      ]
     },
     "execution_count": 74,
     "metadata": {},
     "output_type": "execute_result"
    }
   ],
   "source": [
    "df2['date'].head()"
   ]
  },
  {
   "cell_type": "markdown",
   "metadata": {},
   "source": [
    "# Predict Total case for a new date"
   ]
  },
  {
   "cell_type": "code",
   "execution_count": 91,
   "metadata": {},
   "outputs": [
    {
     "name": "stdout",
     "output_type": "stream",
     "text": [
      "[[737681]]\n"
     ]
    }
   ],
   "source": [
    "from datetime import date\n",
    "date1=date(2020,9,13)\n",
    "k=date.toordinal(date1)\n",
    "k=np.array(k)\n",
    "k=k.reshape(-1,1)\n",
    "print(k)"
   ]
  },
  {
   "cell_type": "code",
   "execution_count": 84,
   "metadata": {},
   "outputs": [],
   "source": [
    "import sklearn.model_selection as model_selection\n",
    "X = df2[\"date\"].values\n",
    "y = df2[\"total_cases\"].values\n",
    "X_train, X_test, y_train, y_test = model_selection.train_test_split(X, y, train_size=0.65,test_size=0.35, random_state=101)"
   ]
  },
  {
   "cell_type": "code",
   "execution_count": 85,
   "metadata": {},
   "outputs": [],
   "source": [
    "from sklearn.linear_model import LinearRegression\n",
    "from sklearn import metrics"
   ]
  },
  {
   "cell_type": "code",
   "execution_count": 86,
   "metadata": {},
   "outputs": [
    {
     "data": {
      "text/plain": [
       "LinearRegression(copy_X=True, fit_intercept=True, n_jobs=None, normalize=False)"
      ]
     },
     "execution_count": 86,
     "metadata": {},
     "output_type": "execute_result"
    }
   ],
   "source": [
    "regressor2 = LinearRegression()  \n",
    "regressor2.fit(np.array(X_train).reshape(-1,1),np.array(y_train).reshape(-1,1))"
   ]
  },
  {
   "cell_type": "code",
   "execution_count": 88,
   "metadata": {},
   "outputs": [],
   "source": [
    "y_pred = regressor2.predict(np.array(X_test).reshape(-1,1))"
   ]
  },
  {
   "cell_type": "code",
   "execution_count": 89,
   "metadata": {},
   "outputs": [
    {
     "data": {
      "text/plain": [
       "0.5472336773973238"
      ]
     },
     "execution_count": 89,
     "metadata": {},
     "output_type": "execute_result"
    }
   ],
   "source": [
    "regressor2.score(np.array(X_test).reshape(-1,1),np.array(y_test).reshape(-1,1))"
   ]
  },
  {
   "cell_type": "code",
   "execution_count": 91,
   "metadata": {},
   "outputs": [
    {
     "name": "stderr",
     "output_type": "stream",
     "text": [
      "D:\\Dhrumil\\Anaconda\\lib\\site-packages\\ipykernel_launcher.py:3: DataConversionWarning: A column-vector y was passed when a 1d array was expected. Please change the shape of y to (n_samples,), for example using ravel().\n",
      "  This is separate from the ipykernel package so we can avoid doing imports until\n"
     ]
    },
    {
     "data": {
      "text/plain": [
       "RandomForestRegressor(bootstrap=True, ccp_alpha=0.0, criterion='mse',\n",
       "                      max_depth=None, max_features='auto', max_leaf_nodes=None,\n",
       "                      max_samples=None, min_impurity_decrease=0.0,\n",
       "                      min_impurity_split=None, min_samples_leaf=1,\n",
       "                      min_samples_split=2, min_weight_fraction_leaf=0.0,\n",
       "                      n_estimators=100, n_jobs=None, oob_score=False,\n",
       "                      random_state=0, verbose=0, warm_start=False)"
      ]
     },
     "execution_count": 91,
     "metadata": {},
     "output_type": "execute_result"
    }
   ],
   "source": [
    "from sklearn.ensemble import RandomForestRegressor \n",
    "regressor3 = RandomForestRegressor(n_estimators = 100, random_state = 0) \n",
    "regressor3.fit(np.array(X).reshape(-1,1),np.array(y).reshape(-1,1))  "
   ]
  },
  {
   "cell_type": "code",
   "execution_count": 93,
   "metadata": {},
   "outputs": [],
   "source": [
    "y_pred1 = regressor3.predict(np.array(X_test).reshape(-1,1))"
   ]
  },
  {
   "cell_type": "code",
   "execution_count": 94,
   "metadata": {},
   "outputs": [
    {
     "data": {
      "text/plain": [
       "0.999784754398914"
      ]
     },
     "execution_count": 94,
     "metadata": {},
     "output_type": "execute_result"
    }
   ],
   "source": [
    "regressor1.score(np.array(X_test).reshape(-1,1),np.array(y_test).reshape(-1,1))"
   ]
  },
  {
   "cell_type": "code",
   "execution_count": 99,
   "metadata": {},
   "outputs": [
    {
     "data": {
      "text/plain": [
       "1916273"
      ]
     },
     "execution_count": 99,
     "metadata": {},
     "output_type": "execute_result"
    }
   ],
   "source": [
    "int(regressor3.predict([[737681]]))"
   ]
  },
  {
   "cell_type": "code",
   "execution_count": null,
   "metadata": {},
   "outputs": [],
   "source": []
  }
 ],
 "metadata": {
  "kernelspec": {
   "display_name": "Python 3",
   "language": "python",
   "name": "python3"
  },
  "language_info": {
   "codemirror_mode": {
    "name": "ipython",
    "version": 3
   },
   "file_extension": ".py",
   "mimetype": "text/x-python",
   "name": "python",
   "nbconvert_exporter": "python",
   "pygments_lexer": "ipython3",
   "version": "3.7.3"
  }
 },
 "nbformat": 4,
 "nbformat_minor": 4
}
